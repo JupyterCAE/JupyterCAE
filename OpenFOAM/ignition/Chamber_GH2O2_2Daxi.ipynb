{
 "cells": [
  {
   "cell_type": "code",
   "execution_count": 145,
   "metadata": {},
   "outputs": [
    {
     "data": {
      "text/html": [
       "<style>.container { width:90% !important; }</style>"
      ],
      "text/plain": [
       "<IPython.core.display.HTML object>"
      ]
     },
     "metadata": {},
     "output_type": "display_data"
    }
   ],
   "source": [
    "# import all prerequisites\n",
    "from PyFoam.Applications.CloneCase import CloneCase\n",
    "from PyFoam.Applications.ClearCase import ClearCase\n",
    "from PyFoam.Applications.CreateBoundaryPatches import CreateBoundaryPatches\n",
    "from PyFoam.Applications.ChangeBoundaryName import ChangeBoundaryName\n",
    "from PyFoam.Applications.ChangeBoundaryType import ChangeBoundaryType\n",
    "from PyFoam.Applications.WriteDictionary import WriteDictionary\n",
    "from PyFoam.Applications.Runner import Runner\n",
    "from PyFoam.Applications.MeshUtilityRunner import MeshUtilityRunner\n",
    "import shutil, os, sys\n",
    "from IPython.core.display import display, HTML\n",
    "display(HTML(\"<style>.container { width:90% !important; }</style>\"))"
   ]
  },
  {
   "cell_type": "code",
   "execution_count": null,
   "metadata": {
    "collapsed": true
   },
   "outputs": [],
   "source": [
    "sandia_path = \"/home/pavel.kholodov/WORK/OpenFOAM/Benchmark/combustion/SandiaFlameD/flame/CaseB/B2_1X\"\n",
    "newcase = \"Mixing\"\n",
    "meshfile = \"Chamber_2D_axi.msh\""
   ]
  },
  {
   "cell_type": "code",
   "execution_count": null,
   "metadata": {},
   "outputs": [],
   "source": [
    "%%capture capt\n",
    "# Close case from existing one\n",
    "CloneCase(args=[\"--no-vcs\",sandia_path,newcase,\"--no-pyfoam\",\"--add-item=0.orig\",\"--force\"])"
   ]
  },
  {
   "cell_type": "code",
   "execution_count": null,
   "metadata": {},
   "outputs": [],
   "source": [
    "%%capture capt\n",
    "# Clear case\n",
    "#ClearCase(args=[\"-h\"])\n",
    "ClearCase(args=[\"--remove-analyzed\",\"--no-pyfoam\",\"--additional=Mixing.foam\",\"--additional=0\",newcase])"
   ]
  },
  {
   "cell_type": "code",
   "execution_count": null,
   "metadata": {},
   "outputs": [],
   "source": [
    "%%capture capt\n",
    "Runner(args=[\"--silent\",\"fluentMeshToFoam\",\"-case\",os.path.join(os.getcwd(),newcase),meshfile])"
   ]
  },
  {
   "cell_type": "code",
   "execution_count": null,
   "metadata": {},
   "outputs": [],
   "source": [
    "%%capture capt\n",
    "#shutil.copytree(\"./Mixing/0.orig\",\"./Mixing/0\")\n",
    "ClearCase(args=[\"--remove-analyzed\",\"--no-pyfoam\",\"--additional=Mixing.foam\",newcase])"
   ]
  },
  {
   "cell_type": "code",
   "execution_count": null,
   "metadata": {},
   "outputs": [],
   "source": [
    "%%capture capt\n",
    "#Change names\n",
    "ChangeBoundaryName(args=[newcase,\"OX_INLET\",\"ox_inlet\"])\n",
    "ChangeBoundaryName(args=[newcase,\"FUEL_INLET\",\"fuel_inlet\"])\n",
    "ChangeBoundaryName(args=[newcase,\"BOTTOM\",\"bottom\"])\n",
    "ChangeBoundaryName(args=[newcase,\"CHAMBER_WALL\",\"chamber_wall\"])\n",
    "ChangeBoundaryName(args=[newcase,\"NOZZLE_WALL\",\"nozzle_wall\"])\n",
    "ChangeBoundaryName(args=[newcase,\"JET_WALL\",\"jet_wall\"])\n",
    "ChangeBoundaryName(args=[newcase,\"COFLOW\",\"coflow\"])\n",
    "ChangeBoundaryName(args=[newcase,\"ATMOSPHERE\",\"atmosphere\"])\n",
    "ChangeBoundaryName(args=[newcase,\"OUTLET\",\"outlet\"])\n",
    "ChangeBoundaryName(args=[newcase,\"FRONT\",\"front\"])\n",
    "ChangeBoundaryName(args=[newcase,\"BACK\",\"back\"])\n",
    "\n",
    "bc_dict = {'fuel_inlet':'fuel_inlet','oxidizer_inlet':'ox_inlet','outlet':'outlet','opening':'atmosphere','coflow':'coflow'}"
   ]
  },
  {
   "cell_type": "code",
   "execution_count": null,
   "metadata": {},
   "outputs": [],
   "source": [
    "%%capture capt\n",
    "# Change boundary type to appropriate\n",
    "ChangeBoundaryType(args=[newcase,\"ox_inlet\",\"patch\"])\n",
    "ChangeBoundaryType(args=[newcase,\"fuel_inlet\",\"patch\"])\n",
    "ChangeBoundaryType(args=[newcase,\"coflow\",\"patch\"])\n",
    "ChangeBoundaryType(args=[newcase,\"atmosphere\",\"patch\"])\n",
    "ChangeBoundaryType(args=[newcase,\"outlet\",\"patch\"])\n",
    "ChangeBoundaryType(args=[newcase,\"front\",\"wedge\"])\n",
    "ChangeBoundaryType(args=[newcase,\"back\",\"wedge\"])"
   ]
  },
  {
   "cell_type": "code",
   "execution_count": null,
   "metadata": {},
   "outputs": [],
   "source": [
    "%%capture capt\n",
    "# Delete unneeded BC files\n",
    "for i in ['CH4','OH','G','H2O','CO2','CO','O','H']:\n",
    "    os.remove(\"./\"+newcase+\"/0/\"+i)"
   ]
  },
  {
   "cell_type": "code",
   "execution_count": null,
   "metadata": {},
   "outputs": [],
   "source": [
    "%%capture capt\n",
    "# Clear all boundary conditions from old names\n",
    "CreateBoundaryPatches(args=[\"--clear-unused\",\"--overwrite\",os.path.join(os.getcwd(),newcase,\"0/U\")])\n",
    "CreateBoundaryPatches(args=[\"--clear-unused\",\"--overwrite\",os.path.join(os.getcwd(),newcase,\"0/p\")])\n",
    "CreateBoundaryPatches(args=[\"--clear-unused\",\"--overwrite\",os.path.join(os.getcwd(),newcase,\"0/T\")])\n",
    "CreateBoundaryPatches(args=[\"--clear-unused\",\"--overwrite\",os.path.join(os.getcwd(),newcase,\"0/k\")])\n",
    "CreateBoundaryPatches(args=[\"--clear-unused\",\"--overwrite\",os.path.join(os.getcwd(),newcase,\"0/epsilon\")])\n",
    "CreateBoundaryPatches(args=[\"--clear-unused\",\"--overwrite\",os.path.join(os.getcwd(),newcase,\"0/nut\")])\n",
    "CreateBoundaryPatches(args=[\"--clear-unused\",\"--overwrite\",os.path.join(os.getcwd(),newcase,\"0/alphat\")])\n",
    "CreateBoundaryPatches(args=[\"--clear-unused\",\"--overwrite\",os.path.join(os.getcwd(),newcase,\"0/O2\")])\n",
    "CreateBoundaryPatches(args=[\"--clear-unused\",\"--overwrite\",os.path.join(os.getcwd(),newcase,\"0/H2\")])\n",
    "CreateBoundaryPatches(args=[\"--clear-unused\",\"--overwrite\",os.path.join(os.getcwd(),newcase,\"0/N2\")])"
   ]
  },
  {
   "cell_type": "code",
   "execution_count": null,
   "metadata": {},
   "outputs": [],
   "source": [
    "%%capture capt\n",
    "# BC for velocity\n",
    "#Wall BC\n",
    "CreateBoundaryPatches(args=[\"--overwrite\",\"--default={'type':'fixedValue','value':'uniform (0 0 0)'}\",os.path.join(os.getcwd(),newcase,\"0/U\")])\n",
    "# Inlet BC\n",
    "for bcname in [bc_dict['oxidizer_inlet'],bc_dict['fuel_inlet']]:\n",
    "    CreateBoundaryPatches(args=[\"--overwrite\",\"--filter=\"+bcname,\"--default={'type':'flowRateInletVelocity'}\",os.path.join(os.getcwd(),newcase,\"0/U\")])\n",
    "# Outlet BC\n",
    "CreateBoundaryPatches(args=[\"--overwrite\",\"--filter=coflow\",\"--default={'type':'zeroGradient'}\",os.path.join(os.getcwd(),newcase,\"0/U\")])\n",
    "CreateBoundaryPatches(args=[\"--overwrite\",\"--filter=outlet\",\"--default={'type':'pressureInletOutletVelocity','value':'uniform (0 0 0)'}\",os.path.join(os.getcwd(),newcase,\"0/U\")])\n",
    "CreateBoundaryPatches(args=[\"--overwrite\",\"--filter=outlet\",\"--default={'type':'pressureInletOutletVelocity','value':'uniform (0 0 0)'}\",os.path.join(os.getcwd(),newcase,\"0/U\")])\n",
    "# Wedges\n",
    "CreateBoundaryPatches(args=[\"--overwrite\",\"--filter=front\",\"--default={'type':'wedge'}\",os.path.join(os.getcwd(),newcase,\"0/U\")])\n",
    "CreateBoundaryPatches(args=[\"--overwrite\",\"--filter=back\",\"--default={'type':'wedge'}\",os.path.join(os.getcwd(),newcase,\"0/U\")])"
   ]
  },
  {
   "cell_type": "code",
   "execution_count": null,
   "metadata": {},
   "outputs": [],
   "source": [
    "%%capture capt\n",
    "# BC for pressure\n",
    "# Wall BC\n",
    "CreateBoundaryPatches(args=[\"--overwrite\",\"--default={'type':'zeroGradient'}\",os.path.join(os.getcwd(),newcase,\"0/p\")])\n",
    "# Inlet BC\n",
    "CreateBoundaryPatches(args=[\"--overwrite\",\"--filter=ox_inlet\",\"--default={'type':'zeroGradient'}\",os.path.join(os.getcwd(),newcase,\"0/p\")])\n",
    "#CreateBoundaryPatches(args=[\"--overwrite\",\"--filter=fuel_inlet\",\"--default={'type':'zeroGradient'}\",os.path.join(os.getcwd(),newcase,\"0/U\")])\n",
    "# Outlet BC\n",
    "CreateBoundaryPatches(args=[\"--overwrite\",\"--filter=outlet\",\"--default={'type':'pressureInletOutletVelocity','value':'uniform 98066.5'}\",os.path.join(os.getcwd(),newcase,\"0/p\")])\n",
    "CreateBoundaryPatches(args=[\"--overwrite\",\"--filter=coflow\",\"--default={'type':'pressureInletOutletVelocity','value':'uniform 98066.5'}\",os.path.join(os.getcwd(),newcase,\"0/p\")])"
   ]
  },
  {
   "cell_type": "code",
   "execution_count": null,
   "metadata": {},
   "outputs": [],
   "source": [
    "%%capture capt\n",
    "# BC for H2,O2,N2 components\n",
    "files = ['O2','H2','N2']\n",
    "# Wall BC\n",
    "for i in files:\n",
    "    CreateBoundaryPatches(args=[\"--overwrite\",\"--default={'type':'zeroGradient'}\",os.path.join(os.getcwd(),newcase,\"0\",i)])\n",
    "# Inlet BC\n",
    "# oxidizer inlet\n",
    "values = ['1.0','0.0','0.0']\n",
    "for i in range(len(files)):\n",
    "    CreateBoundaryPatches(args=[\"--overwrite\",\"--filter=\"+bc_dict['oxidizer_inlet'],\\\n",
    "                                \"--default={'type':'fixedValue','value':'uniform %s'}\"%(values[i]),\\\n",
    "                                os.path.join(os.getcwd(),newcase,\"0\",files[i])])\n",
    "# fuel inlet\n",
    "values = ['0.0','1.0','0.0']\n",
    "    CreateBoundaryPatches(args=[\"--overwrite\",\"--filter=\"+bc_dict['fuel_inlet'],\\\n",
    "                                \"--default={'type':'fixedValue','value':'uniform %s'}\"%(values[i]),\\\n",
    "                                os.path.join(os.getcwd(),newcase,\"0\",files[i])])\n",
    "# Outlet BC - Atmosphere\n",
    "files = ['O2','H2','N2']\n",
    "values = ['0.23','0.0','0.77']\n",
    "for i in range(len(files)):\n",
    "    CreateBoundaryPatches(args=[\"--overwrite\",\"--filter=\"+bc_dict['opening'],\\\n",
    "                                \"--default={'type':'fixedValue','value':'uniform %s'}\"%(values[i]),\\\n",
    "                                os.path.join(os.getcwd(),newcase,\"0\",files[i])])\n",
    "    CreateBoundaryPatches(args=[\"--overwrite\",\"--filter=\"+bc_dict['outlet'],\\\n",
    "                                \"--default={'type':'fixedValue','value':'uniform %s'}\"%(values[i]),\\\n",
    "                                os.path.join(os.getcwd(),newcase,\"0\",files[i])])\n",
    "\n",
    "# BC for Ydefault components\n",
    "CreateBoundaryPatches(args=[\"--overwrite\",\"--default={'type':'zeroGradient'}\",os.path.join(os.getcwd(),newcase,\"0/Ydefault\")])\n",
    "for bcname in [bc_dict['oxidizer_inlet'],bc_dict['fuel_inlet'],bc_dict['opening'],bc_dict['outlet']]:\n",
    "    CreateBoundaryPatches(args=[\"--overwrite\",\"--filter=\"+bcname,\\\n",
    "                                \"--default={'type':'fixedValue','value':'uniform 0.0'}\",\\\n",
    "                                os.path.join(os.getcwd(),newcase,\"0/Ydefault\")])\n"
   ]
  },
  {
   "cell_type": "code",
   "execution_count": null,
   "metadata": {},
   "outputs": [],
   "source": [
    "%%capture capt\n",
    "# BC for temperature\n",
    "CreateBoundaryPatches(args=[\"--overwrite\",\"--default={'type':'fixedValue','value':'uniform 293'}\",os.path.join(os.getcwd(),newcase,\"0/T\")])\n",
    "\n",
    "for bcname in [bc_dict['opening'],bc_dict['outlet']]:\n",
    "    CreateBoundaryPatches(args=[\"--overwrite\",\"--filter=\"+bcname,\"--default={'type':'inletOutlet'}\",os.path.join(os.getcwd(),newcase,\"0/T\")])\n",
    "\n",
    "WriteDictionary(args=[os.path.join(os.getcwd(),newcase,\"0/T\"),\"boundaryField['outlet']['inletValue']\",\"293\"])\n",
    "WriteDictionary(args=[os.path.join(os.getcwd(),newcase,\"0/T\"),\"boundaryField['atmosphere']['inletValue']\",\"293\"])"
   ]
  },
  {
   "cell_type": "code",
   "execution_count": null,
   "metadata": {},
   "outputs": [],
   "source": [
    "%%capture capt\n",
    "# BC for alphat\n",
    "CreateBoundaryPatches(args=[\"--overwrite\",\"--default={'type':'compressible::alphatWallFunction','value':'$internalField'}\",os.path.join(os.getcwd(),newcase,\"0/alphat\")])\n",
    "# BC for inlets/outlets\n",
    "for bcname in [bc_dict['oxidizer_inlet'],bc_dict['fuel_inlet'],bc_dict['opening'],bc_dict['outlet']]:\n",
    "    CreateBoundaryPatches(args=[\"--overwrite\",\"--filter=\"+bcname,\\\n",
    "                                \"--default={'type':'calculated','value':'$internalFeld'}\",\\\n",
    "                                os.path.join(os.getcwd(),newcase,\"0/alphat\")])"
   ]
  }
 ],
 "metadata": {
  "anaconda-cloud": {},
  "kernelspec": {
   "display_name": "Python [conda root]",
   "language": "python",
   "name": "conda-root-py"
  },
  "language_info": {
   "codemirror_mode": {
    "name": "ipython",
    "version": 2
   },
   "file_extension": ".py",
   "mimetype": "text/x-python",
   "name": "python",
   "nbconvert_exporter": "python",
   "pygments_lexer": "ipython2",
   "version": "2.7.12"
  }
 },
 "nbformat": 4,
 "nbformat_minor": 1
}
