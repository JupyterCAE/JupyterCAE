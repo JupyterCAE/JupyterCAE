{
 "cells": [
  {
   "cell_type": "code",
   "execution_count": 111,
   "metadata": {},
   "outputs": [
    {
     "data": {
      "text/html": [
       "<style>.container { width:90% !important; }</style>"
      ],
      "text/plain": [
       "<IPython.core.display.HTML object>"
      ]
     },
     "metadata": {},
     "output_type": "display_data"
    }
   ],
   "source": [
    "# import all prerequisites\n",
    "from PyFoam.Applications.CloneCase import CloneCase\n",
    "from PyFoam.Applications.ClearCase import ClearCase\n",
    "from PyFoam.Applications.CreateBoundaryPatches import CreateBoundaryPatches\n",
    "from PyFoam.Applications.ChangeBoundaryName import ChangeBoundaryName\n",
    "from PyFoam.Applications.ChangeBoundaryType import ChangeBoundaryType\n",
    "from PyFoam.Applications.WriteDictionary import WriteDictionary\n",
    "from PyFoam.Applications.Runner import Runner\n",
    "from PyFoam.Applications.MeshUtilityRunner import MeshUtilityRunner\n",
    "from PyFoam.Applications.ClearInternalField import ClearInternalField\n",
    "from PyFoam.Applications.Decomposer import Decomposer\n",
    "import shutil, os, sys\n",
    "from IPython.core.display import display, HTML\n",
    "display(HTML(\"<style>.container { width:90% !important; }</style>\"))"
   ]
  },
  {
   "cell_type": "code",
   "execution_count": 36,
   "metadata": {
    "collapsed": true
   },
   "outputs": [],
   "source": [
    "sandia_path = \"/home/pavel.kholodov/WORK/OpenFOAM/Benchmark/combustion/SandiaFlameD/flame/CaseB/B2_1X\"\n",
    "newcase = \"Mixing\"\n",
    "meshfile = \"Chamber_2Daxi.msh\""
   ]
  },
  {
   "cell_type": "code",
   "execution_count": 37,
   "metadata": {},
   "outputs": [
    {
     "data": {
      "text/plain": [
       "<PyFoam.Applications.CloneCase.CloneCase at 0x7f8af1f35f90>"
      ]
     },
     "execution_count": 37,
     "metadata": {},
     "output_type": "execute_result"
    }
   ],
   "source": [
    "%%capture capt\n",
    "# Close case from existing one\n",
    "CloneCase(args=[\"--no-vcs\",sandia_path,newcase,\"--no-pyfoam\",\"--add-item=0.orig\",\"--force\"])"
   ]
  },
  {
   "cell_type": "code",
   "execution_count": 38,
   "metadata": {},
   "outputs": [
    {
     "data": {
      "text/plain": [
       "<PyFoam.Applications.ClearCase.ClearCase at 0x7f8af1f35390>"
      ]
     },
     "execution_count": 38,
     "metadata": {},
     "output_type": "execute_result"
    }
   ],
   "source": [
    "%%capture capt\n",
    "# Clear case\n",
    "#ClearCase(args=[\"-h\"])\n",
    "ClearCase(args=[\"--remove-analyzed\",\"--no-pyfoam\",\"--additional=Mixing.foam\",\"--additional=0\",newcase])"
   ]
  },
  {
   "cell_type": "code",
   "execution_count": 103,
   "metadata": {},
   "outputs": [
    {
     "data": {
      "text/plain": [
       "<PyFoam.Applications.Runner.Runner at 0x7f8af1b63d90>"
      ]
     },
     "execution_count": 103,
     "metadata": {},
     "output_type": "execute_result"
    }
   ],
   "source": [
    "%%capture capt\n",
    "Runner(args=[\"--silent\",\"fluentMeshToFoam\",\"-case\",os.path.join(os.getcwd(),newcase),meshfile])"
   ]
  },
  {
   "cell_type": "code",
   "execution_count": 104,
   "metadata": {},
   "outputs": [
    {
     "data": {
      "text/plain": [
       "<PyFoam.Applications.ClearCase.ClearCase at 0x7f8af1e7b310>"
      ]
     },
     "execution_count": 104,
     "metadata": {},
     "output_type": "execute_result"
    }
   ],
   "source": [
    "%%capture capt\n",
    "#shutil.copytree(\"./Mixing/0.orig\",\"./Mixing/0\")\n",
    "ClearCase(args=[\"--remove-analyzed\",\"--no-pyfoam\",\"--additional=Mixing.foam\",newcase])"
   ]
  },
  {
   "cell_type": "code",
   "execution_count": 105,
   "metadata": {},
   "outputs": [],
   "source": [
    "%%capture capt\n",
    "#shutil.copytree(os.path.join(newcase,\"0.orig\"),os.path.join(newcase,\"0\"))\n",
    "# define BC names\n",
    "mesh_bc = {'fuel_inlet':'FUEL_INLET',\\\n",
    "           'oxidizer_inlet':'OX_INLET',\\\n",
    "           'outlet':'OUTLET',\\\n",
    "           'opening':'ATMOSPHERE',\\\n",
    "           'coflow':'COFLOW',\n",
    "           'walls':['BOTTOM','CHAMBER_WALL','NOZZLE_WALL','JET_WALL'],\n",
    "           'sides':['FRONT','BACK']}\n",
    "case_bc = {'fuel_inlet':'fuel_inlet',\\\n",
    "           'oxidizer_inlet':'ox_inlet',\\\n",
    "           'outlet':'outlet',\\\n",
    "           'opening':'atmosphere',\\\n",
    "           'coflow':'coflow',\\\n",
    "           'walls':['bottom','chamber_wall','nozzle_wall','jet_wall'],\\\n",
    "           'sides':['front','back']}\n",
    "#Change names\n",
    "ChangeBoundaryName(args=[newcase,mesh_bc['oxidizer_inlet'],case_bc['oxidizer_inlet']])\n",
    "ChangeBoundaryName(args=[newcase,mesh_bc['fuel_inlet'],case_bc['fuel_inlet']])\n",
    "for i in range(len(mesh_bc['walls'])):\n",
    "    ChangeBoundaryName(args=[newcase,mesh_bc['walls'][i],case_bc['walls'][i]])\n",
    "\n",
    "ChangeBoundaryName(args=[newcase,mesh_bc['coflow'],case_bc['coflow']])\n",
    "ChangeBoundaryName(args=[newcase,mesh_bc['opening'],case_bc['opening']])\n",
    "ChangeBoundaryName(args=[newcase,mesh_bc['outlet'],case_bc['outlet']])\n",
    "for i in range(len(mesh_bc['sides'])):\n",
    "    ChangeBoundaryName(args=[newcase,mesh_bc['sides'][i],case_bc['sides'][i]])"
   ]
  },
  {
   "cell_type": "code",
   "execution_count": 106,
   "metadata": {
    "collapsed": true
   },
   "outputs": [],
   "source": [
    "%%capture capt\n",
    "# Change boundary type to appropriate\n",
    "bc_types = {'fuel_inlet':'patch',\\\n",
    "            'oxidizer_inlet':'patch',\\\n",
    "            'outlet':'patch',\\\n",
    "            'opening':'patch',\\\n",
    "            'coflow':'patch',\\\n",
    "            'sides':'wedge'}\n",
    "for bcname in [case_bc['oxidizer_inlet'],case_bc['fuel_inlet'],case_bc['outlet'],case_bc['opening']]:\n",
    "    ChangeBoundaryType(args=[newcase,bcname,'patch'])\n",
    "ChangeBoundaryType(args=[newcase,\"front\",\"wedge\"])\n",
    "for bc in case_bc['sides']:\n",
    "    ChangeBoundaryType(args=[newcase,bc,bc_types['sides']])"
   ]
  },
  {
   "cell_type": "code",
   "execution_count": 43,
   "metadata": {
    "collapsed": true
   },
   "outputs": [],
   "source": [
    "%%capture capt\n",
    "# Delete unneeded BC files\n",
    "for i in ['CH4','OH','G','H2O','CO2','CO','O','H']:\n",
    "    os.remove(\"./\"+newcase+\"/0/\"+i)"
   ]
  },
  {
   "cell_type": "code",
   "execution_count": 44,
   "metadata": {},
   "outputs": [
    {
     "data": {
      "text/plain": [
       "<PyFoam.Applications.CreateBoundaryPatches.CreateBoundaryPatches at 0x7f8af1793110>"
      ]
     },
     "execution_count": 44,
     "metadata": {},
     "output_type": "execute_result"
    }
   ],
   "source": [
    "%%capture capt\n",
    "# Clear all boundary conditions from old names\n",
    "CreateBoundaryPatches(args=[\"--clear-unused\",\"--overwrite\",os.path.join(os.getcwd(),newcase,\"0/U\")])\n",
    "CreateBoundaryPatches(args=[\"--clear-unused\",\"--overwrite\",os.path.join(os.getcwd(),newcase,\"0/p\")])\n",
    "CreateBoundaryPatches(args=[\"--clear-unused\",\"--overwrite\",os.path.join(os.getcwd(),newcase,\"0/T\")])\n",
    "CreateBoundaryPatches(args=[\"--clear-unused\",\"--overwrite\",os.path.join(os.getcwd(),newcase,\"0/k\")])\n",
    "CreateBoundaryPatches(args=[\"--clear-unused\",\"--overwrite\",os.path.join(os.getcwd(),newcase,\"0/epsilon\")])\n",
    "CreateBoundaryPatches(args=[\"--clear-unused\",\"--overwrite\",os.path.join(os.getcwd(),newcase,\"0/nut\")])\n",
    "CreateBoundaryPatches(args=[\"--clear-unused\",\"--overwrite\",os.path.join(os.getcwd(),newcase,\"0/alphat\")])\n",
    "CreateBoundaryPatches(args=[\"--clear-unused\",\"--overwrite\",os.path.join(os.getcwd(),newcase,\"0/O2\")])\n",
    "CreateBoundaryPatches(args=[\"--clear-unused\",\"--overwrite\",os.path.join(os.getcwd(),newcase,\"0/H2\")])\n",
    "CreateBoundaryPatches(args=[\"--clear-unused\",\"--overwrite\",os.path.join(os.getcwd(),newcase,\"0/N2\")])"
   ]
  },
  {
   "cell_type": "code",
   "execution_count": 88,
   "metadata": {},
   "outputs": [
    {
     "data": {
      "text/plain": [
       "<PyFoam.Applications.CreateBoundaryPatches.CreateBoundaryPatches at 0x7f8af1d55b90>"
      ]
     },
     "execution_count": 88,
     "metadata": {},
     "output_type": "execute_result"
    }
   ],
   "source": [
    "CreateBoundaryPatches(args=[\"--clear-unused\",\"--overwrite\",os.path.join(os.getcwd(),newcase,\"0/Ydefault\")])"
   ]
  },
  {
   "cell_type": "code",
   "execution_count": 45,
   "metadata": {},
   "outputs": [
    {
     "data": {
      "text/plain": [
       "<PyFoam.Applications.CreateBoundaryPatches.CreateBoundaryPatches at 0x7f8af16b8190>"
      ]
     },
     "execution_count": 45,
     "metadata": {},
     "output_type": "execute_result"
    }
   ],
   "source": [
    "%%capture capt\n",
    "# BC for velocity\n",
    "# Need to add somehow the table entry for inlets\n",
    "#Wall BC\n",
    "CreateBoundaryPatches(args=[\"--overwrite\",\"--default={'type':'fixedValue','value':'uniform (0 0 0)'}\",os.path.join(os.getcwd(),newcase,\"0/U\")])\n",
    "# Inlet BC\n",
    "for bcname in [case_bc['oxidizer_inlet'],case_bc['fuel_inlet']]:\n",
    "    CreateBoundaryPatches(args=[\"--overwrite\",\"--filter=\"+bcname,\"--default={'type':'flowRateInletVelocity'}\",os.path.join(os.getcwd(),newcase,\"0/U\")])\n",
    "# Outlet BC\n",
    "CreateBoundaryPatches(args=[\"--overwrite\",\"--filter=coflow\",\"--default={'type':'zeroGradient'}\",os.path.join(os.getcwd(),newcase,\"0/U\")])\n",
    "CreateBoundaryPatches(args=[\"--overwrite\",\"--filter=outlet\",\"--default={'type':'pressureInletOutletVelocity','value':'uniform (0 0 0)'}\",os.path.join(os.getcwd(),newcase,\"0/U\")])\n",
    "CreateBoundaryPatches(args=[\"--overwrite\",\"--filter=outlet\",\"--default={'type':'pressureInletOutletVelocity','value':'uniform (0 0 0)'}\",os.path.join(os.getcwd(),newcase,\"0/U\")])\n",
    "# Wedges\n",
    "CreateBoundaryPatches(args=[\"--overwrite\",\"--filter=front\",\"--default={'type':'wedge'}\",os.path.join(os.getcwd(),newcase,\"0/U\")])\n",
    "CreateBoundaryPatches(args=[\"--overwrite\",\"--filter=back\",\"--default={'type':'wedge'}\",os.path.join(os.getcwd(),newcase,\"0/U\")])"
   ]
  },
  {
   "cell_type": "code",
   "execution_count": 46,
   "metadata": {},
   "outputs": [
    {
     "data": {
      "text/plain": [
       "<PyFoam.Applications.CreateBoundaryPatches.CreateBoundaryPatches at 0x7f8af198ae10>"
      ]
     },
     "execution_count": 46,
     "metadata": {},
     "output_type": "execute_result"
    }
   ],
   "source": [
    "%%capture capt\n",
    "# BC for pressure\n",
    "# Wall BC\n",
    "CreateBoundaryPatches(args=[\"--overwrite\",\"--default={'type':'zeroGradient'}\",os.path.join(os.getcwd(),newcase,\"0/p\")])\n",
    "# Inlet BC\n",
    "CreateBoundaryPatches(args=[\"--overwrite\",\"--filter=ox_inlet\",\"--default={'type':'zeroGradient'}\",os.path.join(os.getcwd(),newcase,\"0/p\")])\n",
    "#CreateBoundaryPatches(args=[\"--overwrite\",\"--filter=fuel_inlet\",\"--default={'type':'zeroGradient'}\",os.path.join(os.getcwd(),newcase,\"0/U\")])\n",
    "# Outlet BC\n",
    "CreateBoundaryPatches(args=[\"--overwrite\",\"--filter=outlet\",\"--default={'type':'pressureInletOutletVelocity','value':'uniform 98066.5'}\",os.path.join(os.getcwd(),newcase,\"0/p\")])\n",
    "CreateBoundaryPatches(args=[\"--overwrite\",\"--filter=coflow\",\"--default={'type':'pressureInletOutletVelocity','value':'uniform 98066.5'}\",os.path.join(os.getcwd(),newcase,\"0/p\")])"
   ]
  },
  {
   "cell_type": "code",
   "execution_count": 59,
   "metadata": {},
   "outputs": [
    {
     "data": {
      "text/plain": [
       "<PyFoam.Applications.ClearInternalField.ClearInternalField at 0x7f8af1a94e90>"
      ]
     },
     "execution_count": 59,
     "metadata": {},
     "output_type": "execute_result"
    }
   ],
   "source": [
    "ClearInternalField(args=['--value=0.0',os.path.join(os.getcwd(),newcase,\"0/H2\")])\n",
    "ClearInternalField(args=['--value=0.23',os.path.join(os.getcwd(),newcase,\"0/O2\")])\n",
    "ClearInternalField(args=['--value=0.77',os.path.join(os.getcwd(),newcase,\"0/N2\")])\n",
    "ClearInternalField(args=['--value=0.0',os.path.join(os.getcwd(),newcase,\"0/Ydefault\")])\n",
    "\n",
    "ClearInternalField(args=['--value=293.0',os.path.join(os.getcwd(),newcase,\"0/T\")])\n",
    "ClearInternalField(args=['--value=(0 0 0)',os.path.join(os.getcwd(),newcase,\"0/U\")])\n",
    "ClearInternalField(args=['--value=98066.5',os.path.join(os.getcwd(),newcase,\"0/p\")])\n",
    "\n",
    "ClearInternalField(args=['--value=5.0',os.path.join(os.getcwd(),newcase,\"0/k\")])\n",
    "ClearInternalField(args=['--value=32.0',os.path.join(os.getcwd(),newcase,\"0/epsilon\")])"
   ]
  },
  {
   "cell_type": "code",
   "execution_count": 47,
   "metadata": {},
   "outputs": [],
   "source": [
    "%%capture capt\n",
    "# BC for H2,O2,N2 components\n",
    "files = ['O2','H2','N2']\n",
    "# Wall BC\n",
    "for i in files:\n",
    "    CreateBoundaryPatches(args=[\"--overwrite\",\"--default={'type':'zeroGradient'}\",\\\n",
    "                                os.path.join(os.getcwd(),newcase,\"0\",i)])\n",
    "# Inlet BC\n",
    "# oxidizer inlet\n",
    "values = ['1.0','0.0','0.0']\n",
    "for i in range(len(files)):\n",
    "    CreateBoundaryPatches(args=[\"--overwrite\",\"--filter=\"+case_bc['oxidizer_inlet'],\\\n",
    "                                \"--default={'type':'fixedValue','value':'uniform %s'}\"%(values[i]),\\\n",
    "                                os.path.join(os.getcwd(),newcase,\"0\",files[i])])\n",
    "# fuel inlet\n",
    "values = ['0.0','1.0','0.0']\n",
    "CreateBoundaryPatches(args=[\"--overwrite\",\"--filter=\"+case_bc['fuel_inlet'],\\\n",
    "                            \"--default={'type':'fixedValue','value':'uniform %s'}\"%(values[i]),\\\n",
    "                            os.path.join(os.getcwd(),newcase,\"0\",files[i])])\n",
    "# Outlet BC - Atmosphere\n",
    "files = ['O2','H2','N2']\n",
    "values = ['0.23','0.0','0.77']\n",
    "for i in range(len(files)):\n",
    "    CreateBoundaryPatches(args=[\"--overwrite\",\"--filter=\"+case_bc['opening'],\\\n",
    "                                \"--default={'type':'fixedValue','value':'uniform %s'}\"%(values[i]),\\\n",
    "                                os.path.join(os.getcwd(),newcase,\"0\",files[i])])\n",
    "    CreateBoundaryPatches(args=[\"--overwrite\",\"--filter=\"+case_bc['outlet'],\\\n",
    "                                \"--default={'type':'fixedValue','value':'uniform %s'}\"%(values[i]),\\\n",
    "                                os.path.join(os.getcwd(),newcase,\"0\",files[i])])"
   ]
  },
  {
   "cell_type": "code",
   "execution_count": 89,
   "metadata": {
    "collapsed": true
   },
   "outputs": [],
   "source": [
    "# BC for Ydefault components\n",
    "CreateBoundaryPatches(args=[\"--overwrite\",\"--default={'type':'zeroGradient'}\",os.path.join(os.getcwd(),newcase,\"0/Ydefault\")])\n",
    "for bcname in [case_bc['oxidizer_inlet'],case_bc['fuel_inlet'],case_bc['opening'],case_bc['outlet']]:\n",
    "    CreateBoundaryPatches(args=[\"--overwrite\",\"--filter=\"+bcname,\\\n",
    "                                \"--default={'type':'fixedValue','value':'uniform 0.0'}\",\\\n",
    "                                os.path.join(os.getcwd(),newcase,\"0/Ydefault\")])\n"
   ]
  },
  {
   "cell_type": "code",
   "execution_count": 49,
   "metadata": {},
   "outputs": [
    {
     "data": {
      "text/plain": [
       "'\\nWriteDictionary(args=[os.path.join(os.getcwd(),newcase,\"0/T\"),                      \"boundaryField[\\'outlet\\'][\\'value\\']\",\"293\"])\\nWriteDictionary(args=[os.path.join(os.getcwd(),newcase,\"0/T\"),                      \"boundaryField[\\'atmosphere\\'][\\'value\\']\",\"293\"])\\n'"
      ]
     },
     "execution_count": 49,
     "metadata": {},
     "output_type": "execute_result"
    }
   ],
   "source": [
    "%%capture capt\n",
    "# BC for temperature\n",
    "CreateBoundaryPatches(args=[\"--overwrite\",\"--default={'type':'fixedValue','value':'uniform 293'}\",\\\n",
    "                            os.path.join(os.getcwd(),newcase,\"0/T\")])\n",
    "\n",
    "for bcname in [case_bc['opening'],case_bc['outlet']]:\n",
    "    CreateBoundaryPatches(args=[\"--overwrite\",\"--filter=\"+bcname,\"--default={'type':'inletOutlet','value':'uniform 293'}\",\\\n",
    "                                os.path.join(os.getcwd(),newcase,\"0/T\")])\n",
    "\"\"\"\n",
    "WriteDictionary(args=[os.path.join(os.getcwd(),newcase,\"0/T\"),\\\n",
    "                      \"boundaryField['outlet']['value']\",\"293\"])\n",
    "WriteDictionary(args=[os.path.join(os.getcwd(),newcase,\"0/T\"),\\\n",
    "                      \"boundaryField['atmosphere']['value']\",\"293\"])\n",
    "\"\"\""
   ]
  },
  {
   "cell_type": "code",
   "execution_count": 50,
   "metadata": {
    "collapsed": true
   },
   "outputs": [],
   "source": [
    "%%capture capt\n",
    "# BC for alphat\n",
    "CreateBoundaryPatches(args=[\"--overwrite\",\"--default={'type':'compressible::alphatWallFunction','value':'$internalField'}\",\\\n",
    "                            os.path.join(os.getcwd(),newcase,\"0/alphat\")])\n",
    "# BC for inlets/outlets\n",
    "for bcname in [case_bc['oxidizer_inlet'],case_bc['fuel_inlet'],case_bc['opening'],case_bc['outlet']]:\n",
    "    CreateBoundaryPatches(args=[\"--overwrite\",\"--filter=\"+bcname,\\\n",
    "                                \"--default={'type':'calculated','value':'$internalField'}\",\\\n",
    "                                os.path.join(os.getcwd(),newcase,\"0/alphat\")])"
   ]
  },
  {
   "cell_type": "code",
   "execution_count": 51,
   "metadata": {
    "collapsed": true
   },
   "outputs": [],
   "source": [
    "%%capture capt\n",
    "# BC for k, epsilon, nut\n",
    "CreateBoundaryPatches(args=[\"--overwrite\",\"--default={'type':'kqRWallFunction','value':'uniform 0'}\",\\\n",
    "                            os.path.join(os.getcwd(),newcase,\"0/k\")])\n",
    "k_values = ['0.05','0.05','0.01','0.01']\n",
    "for bcname in [case_bc['oxidizer_inlet'],case_bc['fuel_inlet']]:\n",
    "    CreateBoundaryPatches(args=[\"--overwrite\",\"--filter=\"+bcname,\\\n",
    "                                \"--default={'type':'turbulentIntensityKineticEnergyInlet','value':'1'}\",\\\n",
    "                                os.path.join(os.getcwd(),newcase,\"0/k\")])\n",
    "for bcname in [case_bc['opening'],case_bc['outlet']]:\n",
    "    CreateBoundaryPatches(args=[\"--overwrite\",\"--filter=\"+bcname,\\\n",
    "                            \"--default={'type':'inletOutlet','value':'uniform 0.001'}\",\\\n",
    "                            os.path.join(os.getcwd(),newcase,\"0/k\")])\n",
    "# BC for epsilon\n",
    "mixing_length = [1.5e-4,7.6e-5,0.031,0.00923]\n",
    "for bcname in [case_bc['oxidizer_inlet'],case_bc['fuel_inlet']]:\n",
    "    CreateBoundaryPatches(args=[\"--overwrite\",\"--filter=\"+bcname,\\\n",
    "                                \"--default={'type':'turbulentMixingLengthDissipationRateInlet','value':'200'}\",\\\n",
    "                                os.path.join(os.getcwd(),newcase,\"0/epsilon\")])\n",
    "\n",
    "for bcname in [case_bc['opening'],case_bc['outlet']]:\n",
    "    CreateBoundaryPatches(args=[\"--overwrite\",\"--filter=\"+bcname,\\\n",
    "                            \"--default={'type':'inletOutlet','value':'uniform 0.0003'}\",\\\n",
    "                            os.path.join(os.getcwd(),newcase,\"0/epsilon\")])\n",
    "# BC for nut\n",
    "for bcname in case_bc['walls']:\n",
    "    CreateBoundaryPatches(args=[\"--overwrite\",\"--filter=\"+bcname,\\\n",
    "                        \"--default={'type':'nutkWallFunction','value':'uniform 0'}\",\\\n",
    "                        os.path.join(os.getcwd(),newcase,\"0/nut\")])\n",
    "for bcname in [case_bc['oxidizer_inlet'],case_bc['fuel_inlet'],case_bc['opening'],case_bc['outlet']]:\n",
    "    CreateBoundaryPatches(args=[\"--overwrite\",\"--filter=\"+bcname,\\\n",
    "                        \"--default={'type':'calculated','value':'uniform 0'}\",\\\n",
    "                        os.path.join(os.getcwd(),newcase,\"0/nut\")])"
   ]
  },
  {
   "cell_type": "code",
   "execution_count": 102,
   "metadata": {},
   "outputs": [],
   "source": [
    "shutil.rmtree(os.path.join(os.getcwd(),newcase,\"0.mixing.orig\"))\n",
    "shutil.copytree(os.path.join(os.getcwd(),newcase,\"0\"),os.path.join(os.getcwd(),newcase,\"0.mixing.orig\"))"
   ]
  },
  {
   "cell_type": "code",
   "execution_count": 110,
   "metadata": {},
   "outputs": [
    {
     "data": {
      "text/plain": [
       "0"
      ]
     },
     "execution_count": 110,
     "metadata": {},
     "output_type": "execute_result"
    }
   ],
   "source": [
    "os.system(\"foamDictionary -entry 'startFrom' -set 'startTime' %s/system/controlDict 2>err\"%(newcase))\n",
    "os.system(\"foamDictionary -entry 'stopAt' -set 'endTime' %s/system/controlDict 2>err\"%(newcase))\n",
    "os.system(\"foamDictionary -entry 'endTime' -set '0.07' %s/system/controlDict 2>err\"%(newcase))\n",
    "os.system(\"foamDictionary -entry 'deltaT' -set '1e-7' %s/system/controlDict 2>err\"%(newcase))\n",
    "os.system(\"foamDictionary -entry 'writeControl' -set 'adjustableRunTime' %s/system/controlDict 2>err\"%(newcase))\n",
    "os.system(\"foamDictionary -entry 'writeInterval' -set '0.002' %s/system/controlDict 2>err\"%(newcase))\n",
    "os.system(\"foamDictionary -entry 'adjustTimeStep' -set 'yes' %s/system/controlDict 2>err\"%(newcase))\n",
    "os.system(\"foamDictionary -entry 'maxDeltaT' -set '0.0001' %s/system/controlDict 2>err\"%(newcase))\n",
    "os.system(\"foamDictionary -entry 'maxCo' -set '3' %s/system/controlDict 2>err\"%(newcase))\n",
    "\n",
    "os.system(\"foamDictionary -entry 'functions.minMaxT.writeControl' -set 'adjustableRunTime' %s/system/controlDict 2>err\"%(newcase))\n",
    "os.system(\"foamDictionary -entry 'functions.minMaxT.writeInterval' -set '1e-5' %s/system/controlDict 2>err\"%(newcase))\n",
    "\n",
    "os.system(\"foamDictionary -entry 'functions.minMaxP.writeControl' -set 'adjustableRunTime' %s/system/controlDict 2>err\"%(newcase))\n",
    "os.system(\"foamDictionary -entry 'functions.minMaxP.writeInterval' -set '1e-5' %s/system/controlDict 2>err\"%(newcase))\n",
    "\n",
    "os.system(\"foamDictionary -entry 'functions.volAveTemp.writeControl' -set 'adjustableRunTime' %s/system/controlDict 2>err\"%(newcase))\n",
    "os.system(\"foamDictionary -entry 'functions.volAveTemp.writeInterval' -set '1e-5' %s/system/controlDict 2>err\"%(newcase))\n",
    "os.system(\"foamDictionary -entry 'functions.volAveTemp.name' -set 'chamber' %s/system/controlDict 2>err\"%(newcase))"
   ]
  },
  {
   "cell_type": "code",
   "execution_count": 92,
   "metadata": {},
   "outputs": [
    {
     "data": {
      "text/plain": [
       "0"
      ]
     },
     "execution_count": 92,
     "metadata": {},
     "output_type": "execute_result"
    }
   ],
   "source": [
    "os.system(\"foamDictionary -entry 'chemistry' -set 'off' %s/constant/chemistryProperties 2>err\"%(newcase))"
   ]
  },
  {
   "cell_type": "code",
   "execution_count": 93,
   "metadata": {},
   "outputs": [
    {
     "data": {
      "text/plain": [
       "0"
      ]
     },
     "execution_count": 93,
     "metadata": {},
     "output_type": "execute_result"
    }
   ],
   "source": [
    "os.system(\"foamDictionary -entry 'ddtSchemes.default' -set 'Euler' %s/system/fvSchemes 2>err\"%(newcase))\n",
    "os.system(\"foamDictionary -entry 'PIMPLE.nOuterCorrectors' -set '30' %s/system/fvSolution 2>err\"%(newcase))"
   ]
  },
  {
   "cell_type": "markdown",
   "metadata": {},
   "source": [
    "#Could not execute for \"actions\" in topoSetDict\n",
    "os.system(\"foamDictionary -entry 'actions' -set 'chamber' %s/system/topoSetDict 2>err\"%(newcase))\n",
    "#os.system(\"foamDictionary -entry 'actions.sourceInfo.p2' -set '(0.2 0.0 0.0)' %s/system/topoSetDict 2>err\"%(newcase))\n",
    "#os.system(\"foamDictionary -entry 'actions.sourceInfo.radius' -set '0.05' %s/system/topoSetDict 2>err\"%(newcase))"
   ]
  },
  {
   "cell_type": "code",
   "execution_count": 109,
   "metadata": {},
   "outputs": [
    {
     "name": "stderr",
     "output_type": "stream",
     "text": [
      "\u001b[4m PyFoam WARNING on line 42 of file /home/pavel.kholodov/anaconda2/lib/python2.7/site-packages/PyFoam/Infrastructure/ServerBase.py : No certficate file /home/pavel.kholodov/.pyFoam/foamServerCertificate.cert exists. Therefor no SSL-connection for the FoamServer possible\n",
      " To generate a private key:\n",
      "    openssl genrsa -out /home/pavel.kholodov/.pyFoam/foamServerCertificate.key 2048 \n",
      "Then generate the cerificate that is valid for 3 years with \n",
      "    openssl req -new -x509 -key /home/pavel.kholodov/.pyFoam/foamServerCertificate.key -out /home/pavel.kholodov/.pyFoam/foamServerCertificate.cert -days 1095 \u001b[m\n"
     ]
    },
    {
     "data": {
      "text/plain": [
       "<PyFoam.Applications.Runner.Runner at 0x7f8af17cd510>"
      ]
     },
     "execution_count": 109,
     "metadata": {},
     "output_type": "execute_result"
    }
   ],
   "source": [
    "Runner(args=[\"--silent\",\"topoSet\",\"-case\",os.path.join(os.getcwd(),newcase)])"
   ]
  },
  {
   "cell_type": "code",
   "execution_count": 114,
   "metadata": {},
   "outputs": [
    {
     "data": {
      "text/plain": [
       "<PyFoam.Applications.Decomposer.Decomposer at 0x7f8af18d1150>"
      ]
     },
     "execution_count": 114,
     "metadata": {},
     "output_type": "execute_result"
    }
   ],
   "source": [
    "Decomposer(args=[\"--method=simple\",\"--n=(4,1,1)\",\"--delta=1e-4\",\"--no-decompose\",\"./%s\"%(newcase),\"4\"])"
   ]
  }
 ],
 "metadata": {
  "anaconda-cloud": {},
  "kernelspec": {
   "display_name": "Python [conda root]",
   "language": "python",
   "name": "conda-root-py"
  },
  "language_info": {
   "codemirror_mode": {
    "name": "ipython",
    "version": 2
   },
   "file_extension": ".py",
   "mimetype": "text/x-python",
   "name": "python",
   "nbconvert_exporter": "python",
   "pygments_lexer": "ipython2",
   "version": "2.7.12"
  }
 },
 "nbformat": 4,
 "nbformat_minor": 1
}
