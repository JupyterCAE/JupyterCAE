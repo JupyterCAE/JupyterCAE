{
 "cells": [
  {
   "cell_type": "code",
   "execution_count": 13,
   "metadata": {
    "collapsed": true
   },
   "outputs": [],
   "source": [
    "from PyFoam.Applications.CloneCase import CloneCase\n",
    "from PyFoam.Applications.ClearCase import ClearCase\n",
    "from PyFoam.Applications.CreateBoundaryPatches import CreateBoundaryPatches\n",
    "from PyFoam.Applications.ChangeBoundaryName import ChangeBoundaryName\n",
    "from PyFoam.Applications.WriteDictionary import WriteDictionary\n",
    "from PyFoam.Applications.Runner import Runner\n",
    "import shutil, os"
   ]
  },
  {
   "cell_type": "code",
   "execution_count": 14,
   "metadata": {},
   "outputs": [
    {
     "name": "stderr",
     "output_type": "stream",
     "text": [
      "\u001b[4m PyFoam WARNING on line 109 of file /home/pavel.kholodov/anaconda2/lib/python2.7/site-packages/PyFoam/Applications/CloneCase.py : Replacing cavity (--force option) \u001b[m\n"
     ]
    },
    {
     "data": {
      "text/plain": [
       "<PyFoam.Applications.CloneCase.CloneCase at 0x7f6660052150>"
      ]
     },
     "execution_count": 14,
     "metadata": {},
     "output_type": "execute_result"
    }
   ],
   "source": [
    "# Assume that we already sourced .bashrc with OpenFOAM-5.0\n",
    "#openfoam_source = os.path.abspath(\"/opt/openfoam5/etc/bashrc\")\n",
    "#os.system(\"source \"+openfoam_source)\n",
    "# Clone case from the existing one\n",
    "srcpath = os.path.join(os.environ['FOAM_TUTORIALS'],\"incompressible/icoFoam/cavity/cavity\")\n",
    "CloneCase(args=[\"--no-vcs\",srcpath,\"cavity\",\"--force\",\"--no-pyfoam\"])"
   ]
  },
  {
   "cell_type": "code",
   "execution_count": 15,
   "metadata": {},
   "outputs": [
    {
     "data": {
      "text/plain": [
       "<PyFoam.Applications.Runner.Runner at 0x7f66a804b690>"
      ]
     },
     "execution_count": 15,
     "metadata": {},
     "output_type": "execute_result"
    }
   ],
   "source": [
    "Runner(args=[\"--silent\",\"--no-server-process\",\"blockMesh\",\"-case\",\"cavity\"])"
   ]
  },
  {
   "cell_type": "code",
   "execution_count": 16,
   "metadata": {},
   "outputs": [
    {
     "data": {
      "text/plain": [
       "<PyFoam.Applications.ChangeBoundaryName.ChangeBoundaryName at 0x7f665bfe89d0>"
      ]
     },
     "execution_count": 16,
     "metadata": {},
     "output_type": "execute_result"
    }
   ],
   "source": [
    "#Change BC name just to test functionality\n",
    "ChangeBoundaryName(args=[\"cavity\",\"movingWall\",\"slideWall\"])\n",
    "#CreateBoundaryPatches(args=[\"--overwrite\",\"--filter=fixedWalls\",\"--default={'type':'fixedValue','value':'uniform (0 0 0)'}\",\"./cavity/0/U\"])\n",
    "#CreateBoundaryPatches(args=[\"--overwrite\",\"--filter=movingWall\",\"--default={'type':'fixedValue','value':'uniform (1 0 0)'}\",\"./cavity/0/U\"])"
   ]
  },
  {
   "cell_type": "code",
   "execution_count": 17,
   "metadata": {
    "scrolled": true
   },
   "outputs": [
    {
     "data": {
      "text/plain": [
       "<PyFoam.Applications.CreateBoundaryPatches.CreateBoundaryPatches at 0x7f66a804b490>"
      ]
     },
     "execution_count": 17,
     "metadata": {},
     "output_type": "execute_result"
    }
   ],
   "source": [
    "CreateBoundaryPatches(args=[\"--clear-unused\",\"--overwrite\",\"./cavity/0/U\"])\n",
    "CreateBoundaryPatches(args=[\"--clear-unused\",\"--overwrite\",\"./cavity/0/p\"])"
   ]
  },
  {
   "cell_type": "code",
   "execution_count": 18,
   "metadata": {},
   "outputs": [
    {
     "data": {
      "text/plain": [
       "<PyFoam.Applications.CreateBoundaryPatches.CreateBoundaryPatches at 0x7f665a5a3fd0>"
      ]
     },
     "execution_count": 18,
     "metadata": {},
     "output_type": "execute_result"
    }
   ],
   "source": [
    "CreateBoundaryPatches(args=[\"--overwrite\",\"--filter=fixedWalls\",\"--default={'type':'fixedValue','value':'uniform (0 0 0)'}\",\"./cavity/0/U\"])\n",
    "CreateBoundaryPatches(args=[\"--overwrite\",\"--filter=slideWall\",\"--default={'type':'fixedValue','value':'uniform (2 0 0)'}\",\"./cavity/0/U\"])"
   ]
  },
  {
   "cell_type": "code",
   "execution_count": 19,
   "metadata": {},
   "outputs": [
    {
     "data": {
      "text/plain": [
       "<PyFoam.Applications.WriteDictionary.WriteDictionary at 0x7f665a6d1d50>"
      ]
     },
     "execution_count": 19,
     "metadata": {},
     "output_type": "execute_result"
    }
   ],
   "source": [
    "WriteDictionary(args=[\"./cavity/system/controlDict\",\"startTime\",\"0\"])\n",
    "WriteDictionary(args=[\"./cavity/system/controlDict\",\"endTime\",\"1\"])\n",
    "WriteDictionary(args=[\"./cavity/system/controlDict\",\"deltaT\",\"0.005\"])\n",
    "WriteDictionary(args=[\"./cavity/system/controlDict\",\"writeControl\",\"runTime\"])\n",
    "WriteDictionary(args=[\"./cavity/system/controlDict\",\"writeInterval\",\"0.1\"])"
   ]
  },
  {
   "cell_type": "code",
   "execution_count": 20,
   "metadata": {},
   "outputs": [
    {
     "name": "stdout",
     "output_type": "stream",
     "text": [
      "Clearing out old timesteps ....\n"
     ]
    },
    {
     "data": {
      "text/plain": [
       "<PyFoam.Applications.Runner.Runner at 0x7f665a78a0d0>"
      ]
     },
     "execution_count": 20,
     "metadata": {},
     "output_type": "execute_result"
    },
    {
     "name": "stderr",
     "output_type": "stream",
     "text": [
      "Exception in thread Thread-8:\n",
      "Traceback (most recent call last):\n",
      "  File \"/home/pavel.kholodov/anaconda2/lib/python2.7/threading.py\", line 801, in __bootstrap_inner\n",
      "    self.run()\n",
      "  File \"/home/pavel.kholodov/anaconda2/lib/python2.7/threading.py\", line 1073, in run\n",
      "    self.function(*self.args, **self.kwargs)\n",
      "  File \"/home/pavel.kholodov/anaconda2/lib/python2.7/site-packages/PyFoam/Execution/FoamThread.py\", line 86, in getLinuxMem\n",
      "    me=psutil.Process(thrd.threadPid)\n",
      "  File \"/home/pavel.kholodov/anaconda2/lib/python2.7/site-packages/psutil/__init__.py\", line 364, in __init__\n",
      "    self._init(pid)\n",
      "  File \"/home/pavel.kholodov/anaconda2/lib/python2.7/site-packages/psutil/__init__.py\", line 404, in _init\n",
      "    raise NoSuchProcess(pid, None, msg)\n",
      "NoSuchProcess: psutil.NoSuchProcess no process found with pid 13940\n",
      "\n"
     ]
    }
   ],
   "source": [
    "# clear previous calculation results and run application\n",
    "Runner(args=[\"--complete-clear\",\"--pyfoam-stuff-clear\",\"--silent\",\"--no-server-process\",\"icoFoam\",\"-case\",\"cavity\"])"
   ]
  },
  {
   "cell_type": "code",
   "execution_count": 21,
   "metadata": {},
   "outputs": [
    {
     "data": {
      "text/plain": [
       "0"
      ]
     },
     "execution_count": 21,
     "metadata": {},
     "output_type": "execute_result"
    }
   ],
   "source": [
    "# convert OpenFOAM results into legacy VTK format\n",
    "os.system(\"foamToVTK -case ./cavity -latestTime -ascii\")"
   ]
  },
  {
   "cell_type": "code",
   "execution_count": 6,
   "metadata": {},
   "outputs": [
    {
     "data": {
      "image/png": "[encoded data removed]",
      "text/plain": [
       "<IPython.core.display.Image object>"
      ]
     },
     "execution_count": 6,
     "metadata": {},
     "output_type": "execute_result"
    }
   ],
   "source": [
    "# Post-processing\n",
    "# Color mesh by scalar value\n",
    "# Import vtk module\n",
    "import os\n",
    "from vtk import *\n",
    "# Add IPython element to embed window\n",
    "# Function is taken from https://pyscience.wordpress.com/2014/09/03/ipython-notebook-vtk/\n",
    "from IPython.display import Image\n",
    "def vtk_show(renderer, width=400, height=300):\n",
    "    \"\"\"\n",
    "    Takes vtkRenderer instance and returns an IPython Image with the rendering.\n",
    "    \"\"\"\n",
    "    renderWindow = vtk.vtkRenderWindow()\n",
    "    renderWindow.SetOffScreenRendering(1)\n",
    "    renderWindow.AddRenderer(renderer)\n",
    "    # We can also define some camera settings\n",
    "    #cam = renderer.GetActiveCamera()\n",
    "    #cam.Azimuth(5.0)\n",
    "    #cam.Elevation(1.0)\n",
    "    #cam.Zoom(4.)\n",
    "    #cam.Pitch(1.)\n",
    "    renderWindow.SetSize(width, height)\n",
    "    renderWindow.Render()\n",
    "     \n",
    "    windowToImageFilter = vtk.vtkWindowToImageFilter()\n",
    "    windowToImageFilter.SetInput(renderWindow)\n",
    "    windowToImageFilter.Update()\n",
    "     \n",
    "    writer = vtk.vtkPNGWriter()\n",
    "    writer.SetWriteToMemory(1)\n",
    "    writer.SetInputConnection(windowToImageFilter.GetOutputPort())\n",
    "    writer.Write()\n",
    "    data = str(buffer(writer.GetResult()))\n",
    "    \n",
    "    return Image(data)\n",
    "#################################33\n",
    "# Define path to VTK results file\n",
    "filename=os.path.join(os.getcwd(),\"cavity/VTK/cavity_200.vtk\")\n",
    "\n",
    "# Read the source file.\n",
    "reader = vtkUnstructuredGridReader()\n",
    "reader.SetFileName(filename)\n",
    "reader.Update()\n",
    "# Define output port (whatever)\n",
    "reader_out =  reader.GetOutputPort()\n",
    "# Define mappert\n",
    "meshMapper = vtkDataSetMapper()\n",
    "meshMapper.SetInputConnection(reader_out)\n",
    "\n",
    "# convert to CellData (because OpenFOAM writes VTK results as Field dataset attribute)\n",
    "# Field represent an array of data arrays, see VTK User's Guide, \"VTK File Formats\"\n",
    "# We need to convert it to cell or point Data\n",
    "# First do for cells\n",
    "cellData = vtkFieldDataToAttributeDataFilter()\n",
    "cellData.SetInputConnection(reader.GetOutputPort())\n",
    "cellData.SetInputFieldToCellDataField()\n",
    "cellData.SetOutputAttributeDataToCellData()\n",
    "# Choose whether to normalize results or not\n",
    "#cellData.DefaultNormalizeOn()\n",
    "# Define which scalar to show (velocity is also a scalar with 3 components in array)\n",
    "\"\"\"\n",
    "Hint: to define a scalar one should give 3 arguments (at least)\n",
    "1) component number, type int - what is it I don't know\n",
    "2) array name (the name of scalar array which is the name of a scalar to show), type str\n",
    "3) component in scalar (e.g. in array 'p' there is 1 component; in array 'U' there is 3 components)\n",
    "\"\"\"\n",
    "#cellData.SetScalarComponent(0, 'U', 0)\n",
    "##########################################\n",
    "# Second, do for points\n",
    "pointData = vtkFieldDataToAttributeDataFilter()\n",
    "pointData.SetInputConnection(reader.GetOutputPort())\n",
    "pointData.SetInputFieldToPointDataField()\n",
    "pointData.SetOutputAttributeDataToPointData()\n",
    "pointData.SetScalarComponent(0, 'U', 0)\n",
    "# Define a mapper for our data\n",
    "res_mapper = vtkDataSetMapper()\n",
    "# Define a range to show\n",
    "res_mapper.SetScalarRange(-0.5,0.6)\n",
    "##################################\n",
    "#res_mapper.SetInputConnection(cellData.GetOutputPort())\n",
    "res_mapper.SetInputConnection(pointData.GetOutputPort())\n",
    "\"\"\"\n",
    "# Define cut plane (XZ plane)\n",
    "plane = vtk.vtkPlane()\n",
    "# Origin point\n",
    "plane.SetOrigin(0.05,0,0.0)\n",
    "# Normal\n",
    "plane.SetNormal(1,0,0)\n",
    "\n",
    "#create cutter\n",
    "cutter=vtk.vtkCutter()\n",
    "cutter.SetCutFunction(plane)\n",
    "cutter.SetInputConnection(reader.GetOutputPort())\n",
    "cutter.Update()\n",
    "cutterMapper=vtk.vtkPolyDataMapper()\n",
    "cutterMapper.SetInputConnection(cutter.GetOutputPort())\n",
    "\n",
    "# Define plane actor\n",
    "planeActor = vtk.vtkActor()\n",
    "# The color of the plane\n",
    "#planeActor.GetProperty().SetColor(1.0,1,0)\n",
    "planeActor.GetProperty().SetLineWidth(2)\n",
    "planeActor.SetMapper(cutterMapper)\n",
    "\"\"\"\n",
    "# Define actor for results mapper\n",
    "resActor=vtk.vtkActor()\n",
    "resActor.SetMapper(res_mapper)\n",
    "# Define actor for mesh\n",
    "meshActor=vtk.vtkActor()\n",
    "# Mesh color in RGB format (0,0,0) - black\n",
    "meshActor.GetProperty().SetColor(0.0,0.0,0.0)\n",
    "meshActor.GetProperty().SetLineWidth(2)\n",
    "# Define mesh opacity\n",
    "meshActor.GetProperty().SetOpacity(1)\n",
    "meshActor.SetMapper(meshMapper)\n",
    "# Define showing regime - Wireframe to draw mesh lines and nothing else\n",
    "meshActor.GetProperty().SetRepresentationToWireframe()\n",
    "\n",
    "# A renderer and render window\n",
    "renderer = vtk.vtkRenderer()\n",
    "# Define background color in RGB format\n",
    "renderer.SetBackground(1, 1, 1)\n",
    "\n",
    "# add the actors\n",
    "# Plane actor\n",
    "#renderer.AddActor(planeActor)\n",
    "# Mesh actor\n",
    "renderer.AddActor(meshActor)\n",
    "# Results actor\n",
    "renderer.AddActor(resActor)\n",
    "# Define render window (I put it there if we want to render in external OpenGL window)\n",
    "\"\"\"\n",
    "renwin = vtk.vtkRenderWindow()\n",
    "renwin.AddRenderer(renderer)\n",
    "renwin.SetSize(400, 300)\n",
    "\n",
    "# An interactor\n",
    "interactor = vtk.vtkRenderWindowInteractor()\n",
    "# Add render to interactor window\n",
    "interactor.SetRenderWindow(renwin)\n",
    "# Start - Will display OpenGL interactive window with all actors\n",
    "interactor.Initialize()\n",
    "interactor.Start()\n",
    "\"\"\"\n",
    "# Show results in IPython window (non-interactively)\n",
    "vtk_show(renderer,400,300)"
   ]
  }
 ],
 "metadata": {
  "anaconda-cloud": {},
  "kernelspec": {
   "display_name": "Python [conda root]",
   "language": "python",
   "name": "conda-root-py"
  }
 },
 "nbformat": 4,
 "nbformat_minor": 1
}
