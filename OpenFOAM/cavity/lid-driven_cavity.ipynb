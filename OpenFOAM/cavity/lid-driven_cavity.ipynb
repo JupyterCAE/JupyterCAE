{
 "cells": [
  {
   "cell_type": "code",
   "execution_count": null,
   "metadata": {
    "collapsed": true
   },
   "outputs": [],
   "source": [
    "from PyFoam.Applications.CloneCase import CloneCase\n",
    "from PyFoam.Applications.ClearCase import ClearCase\n",
    "from PyFoam.Applications.CreateBoundaryPatches import CreateBoundaryPatches\n",
    "from PyFoam.Applications.ChangeBoundaryName import ChangeBoundaryName\n",
    "from PyFoam.Applications.WriteDictionary import WriteDictionary\n",
    "from PyFoam.Applications.Runner import Runner\n",
    "import shutil, os\n",
    "# Import vtk module\n",
    "from vtk import *"
   ]
  },
  {
   "cell_type": "code",
   "execution_count": null,
   "metadata": {
    "collapsed": true
   },
   "outputs": [],
   "source": [
    "# Assume that we already sourced .bashrc with OpenFOAM-5.0\n",
    "#openfoam_source = os.path.abspath(\"/opt/openfoam5/etc/bashrc\")\n",
    "#os.system(\"source \"+openfoam_source)\n",
    "# Clone case from the existing one\n",
    "srcpath = os.path.join(os.environ['FOAM_TUTORIALS'],\"incompressible/icoFoam/cavity/cavity\")\n",
    "CloneCase(args=[\"--no-vcs\",srcpath,\"cavity\",\"--force\",\"--no-pyfoam\"])"
   ]
  },
  {
   "cell_type": "code",
   "execution_count": null,
   "metadata": {
    "collapsed": true
   },
   "outputs": [],
   "source": [
    "Runner(args=[\"--silent\",\"--no-server-process\",\"blockMesh\",\"-case\",\"cavity\"])"
   ]
  },
  {
   "cell_type": "code",
   "execution_count": null,
   "metadata": {
    "collapsed": true
   },
   "outputs": [],
   "source": [
    "#Change BC name just to test functionality\n",
    "ChangeBoundaryName(args=[\"cavity\",\"movingWall\",\"slideWall\"])\n",
    "#CreateBoundaryPatches(args=[\"--overwrite\",\"--filter=fixedWalls\",\"--default={'type':'fixedValue','value':'uniform (0 0 0)'}\",\"./cavity/0/U\"])\n",
    "#CreateBoundaryPatches(args=[\"--overwrite\",\"--filter=movingWall\",\"--default={'type':'fixedValue','value':'uniform (1 0 0)'}\",\"./cavity/0/U\"])"
   ]
  },
  {
   "cell_type": "code",
   "execution_count": null,
   "metadata": {
    "collapsed": true,
    "scrolled": true
   },
   "outputs": [],
   "source": [
    "CreateBoundaryPatches(args=[\"--clear-unused\",\"--overwrite\",\"./cavity/0/U\"])\n",
    "CreateBoundaryPatches(args=[\"--clear-unused\",\"--overwrite\",\"./cavity/0/p\"])"
   ]
  },
  {
   "cell_type": "code",
   "execution_count": null,
   "metadata": {
    "collapsed": true
   },
   "outputs": [],
   "source": [
    "CreateBoundaryPatches(args=[\"--overwrite\",\"--filter=fixedWalls\",\"--default={'type':'fixedValue','value':'uniform (0 0 0)'}\",\"./cavity/0/U\"])\n",
    "CreateBoundaryPatches(args=[\"--overwrite\",\"--filter=slideWall\",\"--default={'type':'fixedValue','value':'uniform (2 0 0)'}\",\"./cavity/0/U\"])"
   ]
  },
  {
   "cell_type": "code",
   "execution_count": null,
   "metadata": {
    "collapsed": true
   },
   "outputs": [],
   "source": [
    "WriteDictionary(args=[\"./cavity/system/controlDict\",\"startTime\",\"0\"])\n",
    "WriteDictionary(args=[\"./cavity/system/controlDict\",\"endTime\",\"1\"])\n",
    "WriteDictionary(args=[\"./cavity/system/controlDict\",\"deltaT\",\"0.005\"])\n",
    "WriteDictionary(args=[\"./cavity/system/controlDict\",\"writeControl\",\"runTime\"])\n",
    "WriteDictionary(args=[\"./cavity/system/controlDict\",\"writeInterval\",\"0.1\"])"
   ]
  },
  {
   "cell_type": "code",
   "execution_count": null,
   "metadata": {
    "collapsed": true
   },
   "outputs": [],
   "source": [
    "# clear previous calculation results and run application\n",
    "Runner(args=[\"--complete-clear\",\"--pyfoam-stuff-clear\",\"--silent\",\"--no-server-process\",\"icoFoam\",\"-case\",\"cavity\"])"
   ]
  },
  {
   "cell_type": "code",
   "execution_count": null,
   "metadata": {},
   "outputs": [],
   "source": [
    "# convert OpenFOAM results into legacy VTK format\n",
    "os.system(\"foamToVTK -case ./cavity -latestTime -ascii\")"
   ]
  },
  {
   "cell_type": "code",
   "execution_count": null,
   "metadata": {},
   "outputs": [],
   "source": [
    "#################################33\n",
    "# Define path to VTK results file\n",
    "filename=os.path.join(os.getcwd(),\"cavity/VTK/cavity_200.vtk\")\n",
    "\n",
    "# Read the source file.\n",
    "reader = vtkUnstructuredGridReader()\n",
    "reader.SetFileName(filename)\n",
    "reader.Update()\n",
    "# Define output port (whatever)\n",
    "reader_out =  reader.GetOutputPort()"
   ]
  },
  {
   "cell_type": "code",
   "execution_count": null,
   "metadata": {
    "collapsed": true
   },
   "outputs": [],
   "source": [
    "# Define mapper for mesh\n",
    "meshMapper = vtkDataSetMapper()\n",
    "meshMapper.SetInputConnection(reader_out)"
   ]
  },
  {
   "cell_type": "code",
   "execution_count": null,
   "metadata": {
    "collapsed": true
   },
   "outputs": [],
   "source": [
    "# convert to CellData (because OpenFOAM writes VTK results as Field dataset attribute)\n",
    "# Field represent an array of data arrays, see VTK User's Guide, \"VTK File Formats\"\n",
    "# We need to convert it to cell or point Data\n",
    "# First do for cells\n",
    "cellData = vtkFieldDataToAttributeDataFilter()\n",
    "cellData.SetInputConnection(reader.GetOutputPort())\n",
    "cellData.SetInputFieldToCellDataField()\n",
    "cellData.SetOutputAttributeDataToCellData()\n",
    "# Choose whether to normalize results or not\n",
    "#cellData.DefaultNormalizeOn()\n",
    "\n",
    "# Define which scalar to show (velocity is also a scalar with 3 components in array)\n",
    "\"\"\"\n",
    "Hint: to define a scalar one should give 3 arguments (at least)\n",
    "- component number, type int - what is it I don't know\n",
    "- array name (the name of scalar array which is the name of a scalar to show), type str\n",
    "- component in scalar (e.g. in array 'p' there is 1 component; in array 'U' there is 3 components)\n",
    "\"\"\"\n",
    "#cellData.SetScalarComponent(0, 'U', 0)\n",
    "##########################################"
   ]
  },
  {
   "cell_type": "code",
   "execution_count": null,
   "metadata": {},
   "outputs": [],
   "source": [
    "# Second, do for points\n",
    "pointData = vtkFieldDataToAttributeDataFilter()\n",
    "pointData.SetInputConnection(reader.GetOutputPort())\n",
    "pointData.SetInputFieldToPointDataField()\n",
    "pointData.SetOutputAttributeDataToPointData()\n",
    "pointData.SetScalarComponent(0, 'U', 0)\n",
    "#pointData.SetVectorComponent(0,'U',1)"
   ]
  },
  {
   "cell_type": "code",
   "execution_count": null,
   "metadata": {
    "collapsed": true
   },
   "outputs": [],
   "source": [
    "# Define a mapper for the data\n",
    "res_mapper = vtkDataSetMapper()\n",
    "# Define a range to show\n",
    "res_mapper.SetScalarRange(-0.5,2)\n",
    "##################################\n",
    "\n",
    "# Define input connection - cells or points\n",
    "#res_mapper.SetInputConnection(cellData.GetOutputPort())\n",
    "\n",
    "res_mapper.SetInputConnection(pointData.GetOutputPort())"
   ]
  },
  {
   "cell_type": "code",
   "execution_count": null,
   "metadata": {
    "collapsed": true
   },
   "outputs": [],
   "source": [
    "# Define actor for results mapper\n",
    "resActor=vtk.vtkActor()\n",
    "resActor.SetMapper(res_mapper)\n",
    "# Define actor for mesh\n",
    "meshActor=vtk.vtkActor()\n",
    "# Mesh color in RGB forma: (0,0,0) - black\n",
    "meshActor.GetProperty().SetColor(0.0,0.0,0.0)\n",
    "meshActor.GetProperty().SetLineWidth(2)\n",
    "# Define mesh opacity\n",
    "meshActor.GetProperty().SetOpacity(0.5)\n",
    "meshActor.SetMapper(meshMapper)\n",
    "# Define show regime - Wireframe to draw mesh lines and nothing else\n",
    "meshActor.GetProperty().SetRepresentationToWireframe()"
   ]
  },
  {
   "cell_type": "markdown",
   "metadata": {},
   "source": [
    "### Hint\n",
    "To remove actor from the renderer, use function renderer.RemoveActor(*actor_name*)"
   ]
  },
  {
   "cell_type": "code",
   "execution_count": null,
   "metadata": {
    "collapsed": true
   },
   "outputs": [],
   "source": [
    "# Set for interactive window (OpenGL)\n",
    "\"\"\"\n",
    "renwin = vtk.vtkRenderWindow()\n",
    "renwin.AddRenderer(renderer)\n",
    "renwin.SetSize(400, 300)\n",
    "\n",
    "# An interactor\n",
    "interactor = vtk.vtkRenderWindowInteractor()\n",
    "# Add render to interactor window\n",
    "interactor.SetRenderWindow(renwin)\n",
    "# Start - Will display OpenGL interactive window with all actors\n",
    "interactor.Initialize()\n",
    "interactor.Start()\n",
    "\"\"\""
   ]
  },
  {
   "cell_type": "code",
   "execution_count": null,
   "metadata": {
    "collapsed": true
   },
   "outputs": [],
   "source": [
    "# Post-processing\n",
    "# Color mesh by scalar value\n",
    "# Add IPython element to embed window\n",
    "# Function is taken from https://pyscience.wordpress.com/2014/09/03/ipython-notebook-vtk/\n",
    "from IPython.display import Image\n",
    "def vtk_show(renderer, scalarbar, width=400, height=300):\n",
    "    \"\"\"\n",
    "    Takes vtkRenderer instance and returns an IPython Image with the rendering.\n",
    "    \"\"\"\n",
    "    renderWindow = vtk.vtkRenderWindow()\n",
    "    renderWindow.SetOffScreenRendering(1)\n",
    "    renderWindow.AddRenderer(renderer)\n",
    "    renderWindow.SetSize(width, height)\n",
    "    renderWindow.Render()\n",
    "     \n",
    "    windowToImageFilter = vtk.vtkWindowToImageFilter()\n",
    "    windowToImageFilter.SetInput(renderWindow)\n",
    "    windowToImageFilter.Update()\n",
    "    writer = vtk.vtkPNGWriter()\n",
    "    writer.SetWriteToMemory(1)\n",
    "    writer.SetInputConnection(windowToImageFilter.GetOutputPort())\n",
    "    writer.Write()\n",
    "    data = str(buffer(writer.GetResult()))\n",
    "    \n",
    "    return Image(data)"
   ]
  },
  {
   "cell_type": "code",
   "execution_count": null,
   "metadata": {
    "collapsed": true
   },
   "outputs": [],
   "source": [
    "# A renderer and render window\n",
    "renderer = vtk.vtkRenderer()\n",
    "# Define background color in RGB format\n",
    "renderer.SetBackground(1, 1, 1)"
   ]
  },
  {
   "cell_type": "code",
   "execution_count": null,
   "metadata": {
    "collapsed": true
   },
   "outputs": [],
   "source": [
    "res_bar = vtk.vtkScalarBarActor()\n",
    "res_bar.SetOrientationToVertical()\n",
    "res_bar.SetNumberOfLabels(8)\n",
    "res_bar.SetLabelFormat(\"%+#.1f\")\n",
    "res_bar.SetHeight(0.7)\n",
    "res_bar.SetWidth(0.1)\n",
    "res_bar.SetPosition(0.8,0.15)\n",
    "res_bar.SetLookupTable(resActor.GetMapper().GetLookupTable())\n",
    "# Set labels format\n",
    "res_bar.GetLabelTextProperty().SetFontFamilyToCourier()\n",
    "res_bar.GetLabelTextProperty().SetJustificationToRight()\n",
    "res_bar.GetLabelTextProperty().SetVerticalJustificationToCentered()\n",
    "res_bar.GetLabelTextProperty().BoldOff()\n",
    "res_bar.GetLabelTextProperty().ItalicOff()\n",
    "res_bar.GetLabelTextProperty().ShadowOff()        \n",
    "res_bar.GetLabelTextProperty().SetColor(0, 0, 0)\n",
    "# Set title format\n",
    "res_bar.SetTitle(\"Ux, m/s\")\n",
    "res_bar.GetLabelTextProperty().SetFontFamilyToCourier()\n",
    "res_bar.GetTitleTextProperty().SetColor(0,0,0)\n",
    "res_bar.GetTitleTextProperty().BoldOff()"
   ]
  },
  {
   "cell_type": "code",
   "execution_count": null,
   "metadata": {
    "collapsed": true
   },
   "outputs": [],
   "source": [
    "# add the actors\n",
    "# Plane actor\n",
    "#enderer.AddActor(planeActor)\n",
    "# Mesh actor\n",
    "#renderer.AddActor(meshActor)\n",
    "# Results actor\n",
    "renderer.AddActor(resActor)\n",
    "# Add scalarbar actor\n",
    "renderer.AddActor(res_bar)\n",
    "# Define render window (I put it there if we want to render in external OpenGL window)"
   ]
  },
  {
   "cell_type": "code",
   "execution_count": null,
   "metadata": {
    "collapsed": true
   },
   "outputs": [],
   "source": [
    "#renderer.RemoveActor(res_bar)\n",
    "#renderer.AddActor(res_bar)"
   ]
  },
  {
   "cell_type": "code",
   "execution_count": null,
   "metadata": {
    "collapsed": true
   },
   "outputs": [],
   "source": [
    "# Show results in IPython window (non-interactively)\n",
    "#renderer.RemoveActor(resActor)\n",
    "# We can also define some camera settings\n",
    "cam = renderer.GetActiveCamera()\n",
    "#am.Azimuth(120.0)\n",
    "#cam.Elevation(1.0)\n",
    "#cam.Zoom(1.5)\n",
    "#cam.Pitch(1.)\n",
    "cam.SetParallelProjection(1)\n",
    "cam.SetFocalPoint(0.05,0.05,0.0)\n",
    "cam.SetPosition(0.05,0.05,0.01)\n",
    "#cam.SetDistance(1.0)\n",
    "vtk_show(renderer,res_bar,500,400)"
   ]
  },
  {
   "cell_type": "code",
   "execution_count": null,
   "metadata": {},
   "outputs": [],
   "source": [
    "# render results using vtkOpenFOAMReader class\n",
    "reader2 = vtkOpenFOAMReader()\n",
    "reader2.SetFileName(os.path.join(os.getcwd(),\"cavity/cavity.foam\"))\n",
    "reader2.Update()\n",
    "reader2.SetTimeValue(0.5)\n",
    "reader2_out = reader2.GetOutputPort(0)\n",
    "reader2.SetCreateCellToPoint(1) # 0 if use Cell data, 1 if use Point data\n",
    "#block0 = vtkUnstructuredGrid.SafeDownCast(reader2.GetOutput().GetBlock(0))"
   ]
  },
  {
   "cell_type": "code",
   "execution_count": null,
   "metadata": {},
   "outputs": [],
   "source": [
    "polyFilter = vtkCompositeDataGeometryFilter()\n",
    "polyFilter.SetInputConnection(0,reader2_out)\n",
    "\n",
    "#print(polyFilter)\n",
    "twoMapper = vtkPolyDataMapper()\n",
    "twoMapper.SetInputConnection(polyFilter.GetOutputPort())\n",
    "twoMapper.CreateDefaultLookupTable()\n",
    "#twoMapper.SetScalarModeToUseCellFieldData()\n",
    "twoMapper.SetScalarModeToUsePointFieldData() # use point data for coloring\n",
    "twoMapper.SelectColorArray(\"U\")\n",
    "twoMapper.SetScalarRange(-0.2,1.5)\n",
    "actor = vtk.vtkActor()\n",
    "actor.SetMapper(twoMapper)"
   ]
  },
  {
   "cell_type": "code",
   "execution_count": null,
   "metadata": {},
   "outputs": [],
   "source": [
    "# Other instruments\n",
    "\n",
    "# Define cut plane (XZ plane)\n",
    "plane = vtk.vtkPlane()\n",
    "# Origin point\n",
    "plane.SetOrigin(0.05,0.099,0.005)\n",
    "# Normal\n",
    "plane.SetNormal(0,0,1)\n",
    "\n",
    "#create cutter\n",
    "cutter=vtk.vtkCutter()\n",
    "cutter.SetCutFunction(plane)\n",
    "cutter.SetInputData(block0)\n",
    "cutter.Update()\n",
    "cutterMapper=vtk.vtkPolyDataMapper()\n",
    "cutterMapper.SetInputConnection(cutter.GetOutputPort())\n",
    "\n",
    "# Define plane actor\n",
    "planeActor = vtk.vtkActor()\n",
    "# The color of the plane\n",
    "planeActor.GetProperty().SetColor(1.0,1.0,1)\n",
    "planeActor.GetProperty().SetLineWidth(2)\n",
    "planeActor.SetMapper(cutterMapper)\n",
    "#planeActor.GetProperty().SetRepresentationToWireframe()"
   ]
  },
  {
   "cell_type": "code",
   "execution_count": null,
   "metadata": {},
   "outputs": [],
   "source": [
    "rend = vtkRenderer()\n",
    "rend.SetBackground(0.8,0.8,0.8)\n",
    "rend.RemoveActor(actor)\n",
    "rend.AddActor(planeActor)\n",
    "vtk_show(rend,500,400)"
   ]
  },
  {
   "cell_type": "code",
   "execution_count": null,
   "metadata": {
    "collapsed": true
   },
   "outputs": [],
   "source": [
    "# renderer\n",
    "ren = vtk.vtkRenderer()\n",
    "renWin = vtk.vtkRenderWindow()\n",
    "renWin.AddRenderer(ren)\n",
    "ren.AddActor(planeActor)\n",
    "ren.SetBackground(0.5, 0.5, 0.5) # Background color\n",
    "renWin.SetSize(1024, 768)\n",
    "# An interactor\n",
    "interactor = vtk.vtkRenderWindowInteractor()\n",
    "# Add render to interactor window\n",
    "style = vtk.vtkInteractorStyleTrackballCamera()\n",
    "interactor.SetInteractorStyle(style)\n",
    "interactor.SetRenderWindow(renWin)\n",
    "# Start - Will display OpenGL interactive window with all actors\n",
    "interactor.Initialize()\n",
    "interactor.Start()"
   ]
  },
  {
   "cell_type": "code",
   "execution_count": null,
   "metadata": {
    "collapsed": true
   },
   "outputs": [],
   "source": [
    "ColorRange = vtk.vtkLookupTable()\n",
    "ColorRange.SetTableRange(0, 1)\n",
    "ColorRange.SetHueRange(0, 1)\n",
    "ColorRange.SetSaturationRange(1, 1)\n",
    "ColorRange.SetAlphaRange(0.3, 0.5)\n",
    "ColorRange.Build()\n",
    "print(reader2.GetOutput())"
   ]
  },
  {
   "cell_type": "code",
   "execution_count": null,
   "metadata": {
    "collapsed": true
   },
   "outputs": [],
   "source": [
    "# Plot streamlines\n",
    "source = vtk.vtkPlaneSource()\n",
    "source.SetOrigin(0.05,0.05,0.005)\n",
    "#source.SetNormal(0.0,1.0,0.0)\n",
    "sphere = vtk.vtkSphereSource()\n",
    "sphere.SetRadius(0.0001)\n",
    "sphere.SetCenter(0.05, 0.05, 0.005) # Critical point for all 3 test datasets\n",
    "sphere.SetThetaResolution(10)\n",
    "integrator = vtk.vtkRungeKutta4()\n",
    "\n",
    "stream = vtk.vtkStreamLine()\n",
    "stream.SetInputConnection(pointData.GetOutputPort())\n",
    "\n",
    "#stream.SetSourceConnection(sphere.GetOutputPort())\n",
    "stream.SetStartPosition(0.05,0.099,0.005)\n",
    "stream.SetIntegrator(integrator)\n",
    "stream.SetMaximumPropagationTime(500)\n",
    "stream.SetIntegrationStepLength(0.0001)\n",
    "stream.SetIntegrationDirectionToIntegrateBothDirections()\n",
    "#stream.SetStepLength(0.0001)"
   ]
  },
  {
   "cell_type": "code",
   "execution_count": null,
   "metadata": {
    "collapsed": true
   },
   "outputs": [],
   "source": [
    "scalarSurface = vtk.vtkRuledSurfaceFilter()\n",
    "scalarSurface.SetInputConnection(stream.GetOutputPort())\n",
    "scalarSurface.SetOffset(0)\n",
    "scalarSurface.SetOnRatio(2)\n",
    "scalarSurface.PassLinesOn()\n",
    "scalarSurface.SetRuledModeToPointWalk()\n",
    "scalarSurface.SetDistanceFactor(50)\n",
    "\n",
    "tube = vtk.vtkTubeFilter()\n",
    "tube.SetInputConnection(stream.GetOutputPort())\n",
    "tube.SetRadius(0.0001)\n",
    "#tube.SetNumberOfSides(6)"
   ]
  },
  {
   "cell_type": "code",
   "execution_count": null,
   "metadata": {
    "collapsed": true
   },
   "outputs": [],
   "source": [
    "\"\"\"\n",
    "stream_mapper = vtk.vtkPolyDataMapper()\n",
    "stream_mapper.SetInputConnection(stream.GetOutputPort())\n",
    "streamActor = vtk.vtkActor()\n",
    "streamActor.SetMapper(stream_mapper)\n",
    "streamActor.VisibilityOn()\n",
    "\"\"\"\n",
    "dataMapper = vtk.vtkDataSetMapper()\n",
    "dataMapper.SetInputConnection(tube.GetOutputPort())\n",
    "dataMapper.SetScalarRange(-0.5, 1.0)\n",
    "#dataMapper.SetLookupTable(ColorRange)\n",
    "\n",
    "dataActor = vtk.vtkActor()\n",
    "dataActor.SetMapper(dataMapper)"
   ]
  },
  {
   "cell_type": "code",
   "execution_count": null,
   "metadata": {
    "collapsed": true
   },
   "outputs": [],
   "source": [
    "# A renderer and render window\n",
    "renderer2 = vtk.vtkRenderer()\n",
    "# Define background color in RGB format\n",
    "renderer2.SetBackground(1, 1, 1)"
   ]
  },
  {
   "cell_type": "code",
   "execution_count": null,
   "metadata": {
    "collapsed": true
   },
   "outputs": [],
   "source": [
    "renderer2.AddActor(planeActor)\n",
    "renderer2.AddActor(meshActor)\n",
    "#renderer2.RemoveActor(meshActor)"
   ]
  },
  {
   "cell_type": "code",
   "execution_count": null,
   "metadata": {
    "collapsed": true
   },
   "outputs": [],
   "source": [
    "cam2 = renderer2.GetActiveCamera()\n",
    "#cam2.Azimuth(10.0)\n",
    "#cam2.Elevation(1.0)\n",
    "#cam2.Zoom(0.8)\n",
    "#cam2.Pitch(-10.)\n",
    "#cam2.SetParallelProjection(0)\n",
    "cam2.SetFocalPoint(0.05,0.05,0.0)\n",
    "#cam2.SetPosition(0.05,0.05,0.08)\n",
    "#cam2.SetDistance(1.0)\n",
    "#vtk_show(renderer2,res_bar,500,400)"
   ]
  },
  {
   "cell_type": "code",
   "execution_count": null,
   "metadata": {
    "collapsed": true
   },
   "outputs": [],
   "source": [
    "\n",
    "renwin = vtk.vtkRenderWindow()\n",
    "renwin.AddRenderer(rend)\n",
    "renwin.SetSize(600, 400)\n",
    "\n",
    "# An interactor\n",
    "interactor = vtk.vtkRenderWindowInteractor()\n",
    "# Add render to interactor window\n",
    "style = vtk.vtkInteractorStyleTrackballCamera()\n",
    "interactor.SetInteractorStyle(style)\n",
    "interactor.SetRenderWindow(renwin)\n",
    "# Start - Will display OpenGL interactive window with all actors\n",
    "interactor.Initialize()\n",
    "interactor.Start()\n"
   ]
  },
  {
   "cell_type": "code",
   "execution_count": null,
   "metadata": {
    "collapsed": true
   },
   "outputs": [],
   "source": [
    "interactor.ResetCamera()"
   ]
  }
 ],
 "metadata": {
  "anaconda-cloud": {},
  "kernelspec": {
   "display_name": "Python [conda root]",
   "language": "python",
   "name": "conda-root-py"
  },
  "language_info": {
   "codemirror_mode": {
    "name": "ipython",
    "version": 2
   },
   "file_extension": ".py",
   "mimetype": "text/x-python",
   "name": "python",
   "nbconvert_exporter": "python",
   "pygments_lexer": "ipython2",
   "version": "2.7.13"
  }
 },
 "nbformat": 4,
 "nbformat_minor": 1
}
