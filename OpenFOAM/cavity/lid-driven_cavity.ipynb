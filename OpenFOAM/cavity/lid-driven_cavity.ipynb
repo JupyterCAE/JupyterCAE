{
 "cells": [
  {
   "cell_type": "code",
   "execution_count": 173,
   "metadata": {},
   "outputs": [],
   "source": [
    "from PyFoam.Applications.CloneCase import CloneCase\n",
    "from PyFoam.Applications.ClearCase import ClearCase\n",
    "from PyFoam.Applications.CreateBoundaryPatches import CreateBoundaryPatches\n",
    "from PyFoam.Applications.WriteDictionary import WriteDictionary\n",
    "from PyFoam.Applications.Runner import Runner\n",
    "import shutil, os"
   ]
  },
  {
   "cell_type": "code",
   "execution_count": 188,
   "metadata": {},
   "outputs": [
    {
     "ename": "OSError",
     "evalue": "[Errno 2] No such file or directory: '/home/pavel.kholodov/WORK/OpenFOAM/Benchmark/JupyterCAEHub/$FOAM_TUTORIALS/incompressible/icoFoam/cavity/cavity'",
     "output_type": "error",
     "traceback": [
      "\u001b[0;31m---------------------------------------------------------------------------\u001b[0m",
      "\u001b[0;31mOSError\u001b[0m                                   Traceback (most recent call last)",
      "\u001b[0;32m<ipython-input-188-1209ac2032d6>\u001b[0m in \u001b[0;36m<module>\u001b[0;34m()\u001b[0m\n\u001b[1;32m      2\u001b[0m \u001b[0mos\u001b[0m\u001b[0;34m.\u001b[0m\u001b[0msystem\u001b[0m\u001b[0;34m(\u001b[0m\u001b[0;34m\"source \"\u001b[0m\u001b[0;34m+\u001b[0m\u001b[0mopenfoam_source\u001b[0m\u001b[0;34m)\u001b[0m\u001b[0;34m\u001b[0m\u001b[0m\n\u001b[1;32m      3\u001b[0m \u001b[0;31m# Clone case from the existing one\u001b[0m\u001b[0;34m\u001b[0m\u001b[0;34m\u001b[0m\u001b[0m\n\u001b[0;32m----> 4\u001b[0;31m \u001b[0mCloneCase\u001b[0m\u001b[0;34m(\u001b[0m\u001b[0margs\u001b[0m\u001b[0;34m=\u001b[0m\u001b[0;34m[\u001b[0m\u001b[0;34m\"--no-vcs\"\u001b[0m\u001b[0;34m,\u001b[0m\u001b[0;34m\"$FOAM_TUTORIALS/incompressible/icoFoam/cavity/cavity/\"\u001b[0m\u001b[0;34m,\u001b[0m\u001b[0;34m\"./cavity\"\u001b[0m\u001b[0;34m,\u001b[0m\u001b[0;34m\"--force\"\u001b[0m\u001b[0;34m,\u001b[0m\u001b[0;34m\"--no-pyfoam\"\u001b[0m\u001b[0;34m]\u001b[0m\u001b[0;34m)\u001b[0m\u001b[0;34m\u001b[0m\u001b[0m\n\u001b[0m",
      "\u001b[0;32m/home/pavel.kholodov/anaconda2/lib/python2.7/site-packages/PyFoam/Applications/CloneCase.pyc\u001b[0m in \u001b[0;36m__init__\u001b[0;34m(self, args, **kwargs)\u001b[0m\n\u001b[1;32m     30\u001b[0m                                    \u001b[0minterspersed\u001b[0m\u001b[0;34m=\u001b[0m\u001b[0mTrue\u001b[0m\u001b[0;34m,\u001b[0m\u001b[0;34m\u001b[0m\u001b[0m\n\u001b[1;32m     31\u001b[0m                                    \u001b[0mnr\u001b[0m\u001b[0;34m=\u001b[0m\u001b[0;36m2\u001b[0m\u001b[0;34m,\u001b[0m\u001b[0;34m\u001b[0m\u001b[0m\n\u001b[0;32m---> 32\u001b[0;31m                                    **kwargs)\n\u001b[0m\u001b[1;32m     33\u001b[0m \u001b[0;34m\u001b[0m\u001b[0m\n\u001b[1;32m     34\u001b[0m     \u001b[0;32mdef\u001b[0m \u001b[0maddOptions\u001b[0m\u001b[0;34m(\u001b[0m\u001b[0mself\u001b[0m\u001b[0;34m)\u001b[0m\u001b[0;34m:\u001b[0m\u001b[0;34m\u001b[0m\u001b[0m\n",
      "\u001b[0;32m/home/pavel.kholodov/anaconda2/lib/python2.7/site-packages/PyFoam/Applications/PyFoamApplication.pyc\u001b[0m in \u001b[0;36m__init__\u001b[0;34m(self, args, description, epilog, examples, usage, interspersed, nr, changeVersion, exactNr, subcommands, inputApp, localConfigurationFile, findLocalConfigurationFile, **kwArgs)\u001b[0m\n\u001b[1;32m    434\u001b[0m                     \u001b[0msys\u001b[0m\u001b[0;34m.\u001b[0m\u001b[0mstderr\u001b[0m\u001b[0;34m=\u001b[0m\u001b[0mStringIO\u001b[0m\u001b[0;34m(\u001b[0m\u001b[0;34m)\u001b[0m\u001b[0;34m\u001b[0m\u001b[0m\n\u001b[1;32m    435\u001b[0m \u001b[0;34m\u001b[0m\u001b[0m\n\u001b[0;32m--> 436\u001b[0;31m                 \u001b[0mresult\u001b[0m\u001b[0;34m=\u001b[0m\u001b[0mself\u001b[0m\u001b[0;34m.\u001b[0m\u001b[0mrun\u001b[0m\u001b[0;34m(\u001b[0m\u001b[0;34m)\u001b[0m\u001b[0;34m\u001b[0m\u001b[0m\n\u001b[0m\u001b[1;32m    437\u001b[0m \u001b[0;34m\u001b[0m\u001b[0m\n\u001b[1;32m    438\u001b[0m                 \u001b[0;31m# do this at the earliest possible moment\u001b[0m\u001b[0;34m\u001b[0m\u001b[0;34m\u001b[0m\u001b[0m\n",
      "\u001b[0;32m/home/pavel.kholodov/anaconda2/lib/python2.7/site-packages/PyFoam/Applications/CloneCase.pyc\u001b[0m in \u001b[0;36mrun\u001b[0;34m(self)\u001b[0m\n\u001b[1;32m    121\u001b[0m                               \u001b[0mparaviewLink\u001b[0m\u001b[0;34m=\u001b[0m\u001b[0mFalse\u001b[0m\u001b[0;34m,\u001b[0m\u001b[0;34m\u001b[0m\u001b[0m\n\u001b[1;32m    122\u001b[0m                               \u001b[0maddLocalConfig\u001b[0m\u001b[0;34m=\u001b[0m\u001b[0mTrue\u001b[0m\u001b[0;34m,\u001b[0m\u001b[0;34m\u001b[0m\u001b[0m\n\u001b[0;32m--> 123\u001b[0;31m                               parallel=self.opts.parallel)\n\u001b[0m\u001b[1;32m    124\u001b[0m \u001b[0;34m\u001b[0m\u001b[0m\n\u001b[1;32m    125\u001b[0m         \u001b[0;32mif\u001b[0m \u001b[0msol\u001b[0m\u001b[0;34m.\u001b[0m\u001b[0mdetermineVCS\u001b[0m\u001b[0;34m(\u001b[0m\u001b[0;34m)\u001b[0m\u001b[0;34m!=\u001b[0m\u001b[0mNone\u001b[0m \u001b[0;32mand\u001b[0m \u001b[0mself\u001b[0m\u001b[0;34m.\u001b[0m\u001b[0mopts\u001b[0m\u001b[0;34m.\u001b[0m\u001b[0mvcs\u001b[0m\u001b[0;34m:\u001b[0m\u001b[0;34m\u001b[0m\u001b[0m\n",
      "\u001b[0;32m/home/pavel.kholodov/anaconda2/lib/python2.7/site-packages/PyFoam/RunDictionary/SolutionDirectory.pyc\u001b[0m in \u001b[0;36m__init__\u001b[0;34m(self, name, archive, paraviewLink, parallel, addLocalConfig, tolerant, region)\u001b[0m\n\u001b[1;32m     67\u001b[0m \u001b[0;34m\u001b[0m\u001b[0m\n\u001b[1;32m     68\u001b[0m         \u001b[0mself\u001b[0m\u001b[0;34m.\u001b[0m\u001b[0mlastReread\u001b[0m\u001b[0;34m=\u001b[0m\u001b[0;36m0\u001b[0m\u001b[0;34m\u001b[0m\u001b[0m\n\u001b[0;32m---> 69\u001b[0;31m         \u001b[0mself\u001b[0m\u001b[0;34m.\u001b[0m\u001b[0mreread\u001b[0m\u001b[0;34m(\u001b[0m\u001b[0;34m)\u001b[0m\u001b[0;34m\u001b[0m\u001b[0m\n\u001b[0m\u001b[1;32m     70\u001b[0m \u001b[0;34m\u001b[0m\u001b[0m\n\u001b[1;32m     71\u001b[0m         \u001b[0mself\u001b[0m\u001b[0;34m.\u001b[0m\u001b[0mdirPrefix\u001b[0m\u001b[0;34m=\u001b[0m\u001b[0;34m''\u001b[0m\u001b[0;34m\u001b[0m\u001b[0m\n",
      "\u001b[0;32m/home/pavel.kholodov/anaconda2/lib/python2.7/site-packages/PyFoam/RunDictionary/SolutionDirectory.pyc\u001b[0m in \u001b[0;36mreread\u001b[0;34m(self, force)\u001b[0m\n\u001b[1;32m    508\u001b[0m         \u001b[0;34m\"\"\"Rescan the directory for the time directories\"\"\"\u001b[0m\u001b[0;34m\u001b[0m\u001b[0m\n\u001b[1;32m    509\u001b[0m \u001b[0;34m\u001b[0m\u001b[0m\n\u001b[0;32m--> 510\u001b[0;31m         \u001b[0;32mif\u001b[0m \u001b[0;32mnot\u001b[0m \u001b[0mforce\u001b[0m \u001b[0;32mand\u001b[0m \u001b[0mstat\u001b[0m\u001b[0;34m(\u001b[0m\u001b[0mself\u001b[0m\u001b[0;34m.\u001b[0m\u001b[0mname\u001b[0m\u001b[0;34m)\u001b[0m\u001b[0;34m[\u001b[0m\u001b[0mST_CTIME\u001b[0m\u001b[0;34m]\u001b[0m\u001b[0;34m<=\u001b[0m\u001b[0mself\u001b[0m\u001b[0;34m.\u001b[0m\u001b[0mlastReread\u001b[0m\u001b[0;34m:\u001b[0m\u001b[0;34m\u001b[0m\u001b[0m\n\u001b[0m\u001b[1;32m    511\u001b[0m             \u001b[0;32mreturn\u001b[0m\u001b[0;34m\u001b[0m\u001b[0m\n\u001b[1;32m    512\u001b[0m \u001b[0;34m\u001b[0m\u001b[0m\n",
      "\u001b[0;31mOSError\u001b[0m: [Errno 2] No such file or directory: '/home/pavel.kholodov/WORK/OpenFOAM/Benchmark/JupyterCAEHub/$FOAM_TUTORIALS/incompressible/icoFoam/cavity/cavity'"
     ]
    }
   ],
   "source": [
    "openfoam_source = os.path.abspath(\"/opt/openfoam5/etc/bashrc\")\n",
    "os.system(\"source \"+openfoam_source)\n",
    "# Clone case from the existing one\n",
    "#CloneCase(args=[\"--no-vcs\",\"$FOAM_TUTORIALS/incompressible/icoFoam/cavity/cavity/\",\"./cavity\",\"--force\",\"--no-pyfoam\"])"
   ]
  },
  {
   "cell_type": "code",
   "execution_count": 175,
   "metadata": {},
   "outputs": [
    {
     "data": {
      "text/plain": [
       "<PyFoam.Applications.Runner.Runner at 0x7fcc05f4ca90>"
      ]
     },
     "execution_count": 175,
     "metadata": {},
     "output_type": "execute_result"
    }
   ],
   "source": [
    "Runner(args=[\"--silent\",\"--no-server-process\",\"blockMesh\",\"-case\",\"cavity\"])"
   ]
  },
  {
   "cell_type": "code",
   "execution_count": 177,
   "metadata": {},
   "outputs": [
    {
     "data": {
      "text/plain": [
       "<PyFoam.Applications.CreateBoundaryPatches.CreateBoundaryPatches at 0x7fcc05ae7150>"
      ]
     },
     "execution_count": 177,
     "metadata": {},
     "output_type": "execute_result"
    }
   ],
   "source": [
    "#shutil.rmtree(\"./cavity/0\")\n",
    "#os.makedirs(\"./cavity/0\")\n",
    "#CreateBoundaryPatches(args=[\"-h\"])\n",
    "CreateBoundaryPatches(args=[\"--clear-unused\",\"--overwrite\",\"./cavity/0/U\"])\n",
    "#from PyFoam.Applications.UpdateDictionary import UpdateDictionary\n",
    "#UpdateDictionary(args=[\"--verbose\",\"--batch\",\"--test\",\"--not-equal\",\"./cavity/0/p\",\"./cavity/0/U\"])\n",
    "CreateBoundaryPatches(args=[\"--overwrite\",\"--default={'type':'fixedValue','value':'uniform (0 0 0)'}\",\"./cavity/0/U\"])\n",
    "CreateBoundaryPatches(args=[\"--overwrite\",\"--filter=movingWall\",\"--default={'type':'fixedValue','value':'uniform (1 0 0)'}\",\"./cavity/0/U\"])"
   ]
  },
  {
   "cell_type": "code",
   "execution_count": 180,
   "metadata": {},
   "outputs": [
    {
     "data": {
      "text/plain": [
       "<PyFoam.Applications.WriteDictionary.WriteDictionary at 0x7fcc05abf750>"
      ]
     },
     "execution_count": 180,
     "metadata": {},
     "output_type": "execute_result"
    }
   ],
   "source": [
    "WriteDictionary(args=[\"./cavity/system/controlDict\",\"startTime\",\"0\"])\n",
    "WriteDictionary(args=[\"./cavity/system/controlDict\",\"endTime\",\"1\"])\n",
    "WriteDictionary(args=[\"./cavity/system/controlDict\",\"deltaT\",\"0.005\"])\n",
    "WriteDictionary(args=[\"./cavity/system/controlDict\",\"writeControl\",\"runTime\"])\n",
    "WriteDictionary(args=[\"./cavity/system/controlDict\",\"writeInterval\",\"0.05\"])"
   ]
  },
  {
   "cell_type": "code",
   "execution_count": 181,
   "metadata": {},
   "outputs": [
    {
     "name": "stdout",
     "output_type": "stream",
     "text": [
      " t =          1"
     ]
    },
    {
     "data": {
      "text/plain": [
       "<PyFoam.Applications.Runner.Runner at 0x7fcc05bbdbd0>"
      ]
     },
     "execution_count": 181,
     "metadata": {},
     "output_type": "execute_result"
    }
   ],
   "source": [
    "# run application\n",
    "Runner(args=[\"--progress\",\"--no-server-process\",\"logname=cavity\",\"icoFoam\",\"-case\",\"cavity\"])"
   ]
  },
  {
   "cell_type": "code",
   "execution_count": null,
   "metadata": {
    "collapsed": true
   },
   "outputs": [],
   "source": []
  }
 ],
 "metadata": {
  "anaconda-cloud": {},
  "kernelspec": {
   "display_name": "Python [conda root]",
   "language": "python",
   "name": "conda-root-py"
  },
  "language_info": {
   "codemirror_mode": {
    "name": "ipython",
    "version": 2
   },
   "file_extension": ".py",
   "mimetype": "text/x-python",
   "name": "python",
   "nbconvert_exporter": "python",
   "pygments_lexer": "ipython2",
   "version": "2.7.12"
  }
 },
 "nbformat": 4,
 "nbformat_minor": 1
}
