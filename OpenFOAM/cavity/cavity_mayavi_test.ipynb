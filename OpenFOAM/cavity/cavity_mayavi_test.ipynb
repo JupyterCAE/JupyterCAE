{
 "cells": [
  {
   "cell_type": "code",
   "execution_count": 1,
   "metadata": {
    "collapsed": true
   },
   "outputs": [],
   "source": [
    "import os\n",
    "from mayavi import mlab\n",
    "from mayavi.sources.api import VTKFileReader\n",
    "from mayavi.sources.vtk_data_source import VTKDataSource\n",
    "from mayavi.core.api import Engine\n",
    "from mayavi.scripts import mayavi2\n",
    "import numpy as np\n",
    "from tvtk.api import tvtk\n",
    "from mayavi.modules.surface import Surface\n",
    "from vtk import *"
   ]
  },
  {
   "cell_type": "code",
   "execution_count": 2,
   "metadata": {
    "collapsed": true
   },
   "outputs": [],
   "source": [
    "# define the file name\n",
    "filename=os.path.join(os.getcwd(),'cavity/VTK/cavity_100.vtk')"
   ]
  },
  {
   "cell_type": "code",
   "execution_count": 3,
   "metadata": {
    "collapsed": true
   },
   "outputs": [],
   "source": [
    "# read results\n",
    "reader = vtkUnstructuredGridReader()\n",
    "reader.SetFileName(filename)\n",
    "reader.Update()"
   ]
  },
  {
   "cell_type": "code",
   "execution_count": 4,
   "metadata": {
    "collapsed": true
   },
   "outputs": [],
   "source": [
    "# create vtkUnstructuredGrid object\n",
    "data = reader.GetOutput()"
   ]
  },
  {
   "cell_type": "code",
   "execution_count": 5,
   "metadata": {
    "collapsed": true
   },
   "outputs": [],
   "source": [
    "# get point data\n",
    "points = data.GetPoints()\n",
    "points_data = data.GetPointData()\n",
    "pressure = points_data.GetArray(0)\n",
    "velocity = points_data.GetArray(1)"
   ]
  },
  {
   "cell_type": "code",
   "execution_count": 6,
   "metadata": {
    "collapsed": true
   },
   "outputs": [],
   "source": [
    "# convert vtk arrays to numpy\n",
    "from vtk.util import numpy_support\n",
    "np_points = numpy_support.vtk_to_numpy(points.GetData())\n",
    "np_pressure = numpy_support.vtk_to_numpy(pressure)\n",
    "np_velocity = numpy_support.vtk_to_numpy(velocity)"
   ]
  },
  {
   "cell_type": "code",
   "execution_count": 7,
   "metadata": {
    "collapsed": true
   },
   "outputs": [],
   "source": [
    "# get cell data\n",
    "cellTypes = data.GetCellTypesArray()\n",
    "cells_data = data.GetCellData()\n",
    "cells = data.GetCells()\n",
    "cellsLocArray = data.GetCellLocationsArray()"
   ]
  },
  {
   "cell_type": "code",
   "execution_count": 8,
   "metadata": {
    "collapsed": true
   },
   "outputs": [],
   "source": [
    "# create mayavi source via tvtk\n",
    "ug = tvtk.UnstructuredGrid(points = points)\n",
    "ug.set_cells(cellTypes,cellsLocArray,cells)"
   ]
  },
  {
   "cell_type": "code",
   "execution_count": 9,
   "metadata": {},
   "outputs": [
    {
     "name": "stdout",
     "output_type": "stream",
     "text": [
      "(0.76571798, -0.59403098)\n"
     ]
    }
   ],
   "source": [
    "# get maximum and minimum of pressure values\n",
    "print(np.amax(np_pressure),np.amin(np_pressure))"
   ]
  },
  {
   "cell_type": "code",
   "execution_count": 10,
   "metadata": {
    "collapsed": true
   },
   "outputs": [],
   "source": [
    "# assign pressure scalar data\n",
    "ug.point_data.scalars = np_pressure\n",
    "ug.point_data.scalars.name = 'pressure'"
   ]
  },
  {
   "cell_type": "code",
   "execution_count": 11,
   "metadata": {},
   "outputs": [
    {
     "name": "stdout",
     "output_type": "stream",
     "text": [
      "Notebook initialized with png backend.\n"
     ]
    }
   ],
   "source": [
    "# initialize the notebook window with png backend (x3d doesn't work at the moment, so no interactivity)\n",
    "mlab.init_notebook(backend='png',local=True,width=700,height=700)\n",
    "fig = mlab.figure(figure='test')"
   ]
  },
  {
   "cell_type": "code",
   "execution_count": 12,
   "metadata": {
    "collapsed": true
   },
   "outputs": [],
   "source": [
    "# add source to the pipeline\n",
    "mlab.clf(figure='test')\n",
    "src = mlab.pipeline.add_dataset(ug)\n",
    "# create cut plane normal to Z axis\n",
    "surf = mlab.pipeline.surface(src,representation='wireframe',color=(0,0,0))\n",
    "cut = mlab.pipeline.scalar_cut_plane(src,plane_orientation='z_axes',view_controls=False,vmax=0.7,vmin=-0.5)\n",
    "#cut.actor.property.representation = 'wireframe'"
   ]
  },
  {
   "cell_type": "code",
   "execution_count": 15,
   "metadata": {},
   "outputs": [
    {
     "name": "stdout",
     "output_type": "stream",
     "text": [
      "setting roll\n"
     ]
    }
   ],
   "source": [
    "# adjust view\n",
    "mlab.view(azimuth=0,elevation=0,roll=0,distance='auto',focalpoint=[0.05,0.05,0.005])\n",
    "fig.scene.parallel_projection = True"
   ]
  },
  {
   "cell_type": "code",
   "execution_count": 17,
   "metadata": {},
   "outputs": [
    {
     "data": {
      "text/html": [
       "<img src=\"data:image/png;base64,iVBORw0KGgoAAAANSUhEUgAAAZAAAAFeCAIAAAAkP95fAAAgAElEQVR4Xu2dbbAlVXnv/2ufeYNhBmReYIApZhDEMIgCoqXRcQCRXIEbSSTmUjEF8SZVJqlU4i2/XLWuKYkfvJW6ScUqXyo3SZWlFS0LvSgmCAXj0SDiGFCUkmKAUV6GwXEYhhmGw8zZ637o3Ws/vV6fXt17n9691q867bOe9X/WXt27+5/Vm332iI9//OPIZDKZWWAQEmQymUxXyIaVyWRmhmxYmUxmZsiGlclkZoZsWJlMZmbIhpXJZGaGbFiZTGZmyIaVyWRmhmxYmUxmZsiGlclkZoZsWJlMZmbIhpXJZGaGbFiZTGZmyIaVyWRmhmxYmUxmZsiGlclkZoZsWJlMZmbIhpXJZGaGbFiZTGZmyIaVyWRmhmxYmUxmZsiGlclkZoZsWJlMZmbIhpXJZGaGbFiZTGZmyIaVyWRmhmxYmUxmZsiGlclkZoZsWJlMZmZYFhL0gT179oQkmcxss2XLlpCkD/TfsPbs2bNnz56dO3eGhJnMDLNly5abbroppJp5kjCsnTt3CrEdAgAgYA+8vZInY47GlT08DwDb3g4AQgIAJAkASBIUGhUwej1DMcc3Ryh6558BILZvEpACEFKWh2trQg6kip0aIatNQMhqk6VRI9s1390FANsvLY9Gjg8rJsOUNc7MD0fX+Y4dO9Br+m9YBWKwfbDiY5gD5iDngDlggKIZjOUcBEOmNsmTqaZ0yf76KvxsHu/7CF73NgwWIYYQixBDDMpADMf5wZAIyt5RXhMPHaNpgzBHs01p5WcALP/2u5dJuQzDZXJYCeRwGeQyOVTBciNjC1xDmcG4cHlgTDK4HH5/1+J/+e9y+xtx5+eB48AisFgnCAqalHgFn1jALcdD90AvSMWwIIibDEpToPGcPZY8mYolT6YmIF0yQWbu2gbe3qXa7GdfVoMg/BK+UmEroZMXwFwZS0cgSw0N+MqIEquyCOynvYekZFh+NxkY8ZzNTWwyFevu5pCpWM45ZNrNM0ObftIbOEhTpYJbUnEAAcxNxWtaKRkgEZIxrMGE10pWdzNlJJYumXb/Bz2CuQ3cXW1tI8ZRFWEYhyA3opUmyjolQlakArI4jLkywzQOjzKixKq0lrhOee9IxbCkgAg5CDWa2mslnkzFvidB/f4P2URHNiciZBwKQe4/ttc0HlyKsq2OQgCAlOU6C5P0Gn+JVWmW+M5/r0jFsCACDkKbrLUS6XKulRwllifBIrBaQNApJrGZk/Fvo4lyEIZxCHIjWmmi9JaISp8U46SgwSDkIE28ppWSARIhJcNyO0jFTXgyNVrA3YwSu7vNuVzASNa1kilsPgTLOCrwS/hKRaWk4lZVlSyPrNE6K6LEqgyWBN6F/pCMYVkNyHAN31rJ1uVcKzlKpEvm8YKgXyztBkHOMo2ZCLbp8JUKX4kkk5VKTgIpR8c3MoQBwzgivIap9JcMkAjJGJZwmo5yENaTIImdayWHbUmXTLMAlaGTj9vMwdvdxvOzxjQpHYGLJspQifYkWO0cN5dwnVW3xHrW+0hKhuU1F+c3DByxc63ksC3pkgXtwCNod6vrbmFEyGsUShks4SsVeonVrSpJMT6+2ussFTC9Jq5EUw6QCCkZlmYu1E3cRmP1I+dayfQj5W5WGccRgsaxJNtoZvT8WmOKMLxGkBvRShOlvUQ9CUrTDdTEC3uSJC5kzHVWLa+JLqEC1ynvHSkZlsdNHF1WP3KulTQ/KmPuk6DLFwRbPLWtHiLkNQpB7r+69hSk8mUrWjOORbkXgJyFdZYKar8ps0oyhjUgG3GNmE/NzRK308U8CZq+EFROc4OozswaexCG1why/1lpohwF0nazu2IJCFEG5f/I8ggt6ywVRHgNv8SqLIIBEiEZwxIWo+F+al7GgSdBw5vs7jYIOcLYGsqZ19r440dstRFsr1HwS7hKifHkfW6lDlDZkxybV6ER1LwGbXhNrRKrEnFvzUySkmGZbuIwGmscfhKsepPP3axeYObVzCe31XK3ytkMxkwE03TqKBUCkJavL1RjaQ4nKlalzAsYPyeOeq1WUstrWikZIBFSMiziGq2tlRy25fxNiKApmB4R1ExnC5xca0yT0hG4aKIcl1gdisaupGZVKjNKSgCleQ2aeU0rJYE3qD+kZFila7S2VjItzOpuKg6agssjgspJb+N5WGMXIuQ1CqUMlvCVpQpA9e52upU6JtsjocoADdZZfnuKLhkgEZIxrHKx09payeNuVlm0YQVlk94q0DYnpgjDawS5/6w0UIpxidOhtFiUe2G3KpUZJSWAbqyzXKe8dyRjWKJ0E6vRmBZmdTeHTMXO388KmoJ1UzMPbhFuyNxGM2iCCHmNQpD7r6Y9OZB8t9IGEqOMgN28AN46SwUt2pMZNHyLZoeEDKu1tZLpRwOvuwVNwbMhJIjY+FOip69ezEEwTaeOskQADIeiscT4CMbfwKq7zpqr7zVWZd2SARIhIcMKmE61y7lWso7g+f0svjuYG5389Ld2EIbXCHL/WWmiFOX301kOZRrCCDH+pihsVqUyQHWdFeE1LmWtktber66TkmH5TYcYTfhJsGphrF/jc20eR1Mzn/42fu3omIloYE9OOG5lFYyb5JuiVqtSGSirQoN1FuqXUMEAiZCMYdmMxhqzngRJ7Pz9rKApBLeCoKz1rTa0xlovDK8R5P6zEqUUEm6HMm98LVZzHy+aprnOiihRgph3bSZJxrCEYTo2o3E+CTosjPW77E02uLtafBW6jV6Snrhg7EKEvEahlMESh7KcjsutzKQlLgYRgPrj5+6vs4pggERIybCYa6WQTFmY70mwFTehk2+4MecThoo4sRXR1J4c0FuY71bSMbS+aBJljIpVqYylhOM1qG9PZknwlPeFlAyLuVbyysbuZlrYHNsXmJua+XQ2iOr5ssYRCLbpxCoFUMeh4BKLcSDK3sqiqUjK9tZZfnvilwyQCMkYltWAymY7vzXarlup+yMoa2Ubv1grMQcRaU9aDyDruBVHDPJ7WKZ5wfzlBmJelhK/K6kg6EqekrrnfmZJxrCEe61k+JHdtsq40X8TVBvT3RAStLJNEGF4jSC3nRW+EmA4FI2DAkp4nQXAZl6WkrlW7cksmeyb2CFSMiyb0TT6rVEqC5pCxEYnL8pDCFbV2sYv0HrMRLDtyVC6f5qd3ul8txr/rkMZmFalMtCsimasJUx7siqDJQMkQkqGZRhN7d8adcmCvhC3qZnHbRx3awc6kHVQYbiSILedlZCS51Z+ATRxMXdReo3Dqrq4zmrtrew6KRkWc63ksC3n72cFTSFuG5CZT2iDqJ6g6NiFCLmSQimDJU2/bOUTk2OScPsOycCzzgIgY9dZKmCWqKul7yRjWIOK0XB/a9TqbjTWLMDMNNwQEkRvkdBKTmxF1LAnm9JlQH4BGOIRYpQXZXfMOssYp946y+9omjJ4yvtCMoYlGGslh201+l32JhudfIubfl5qxRGIhvakSeidGzSgSHH5SCjR0joL1f+YyHQlFchQyQCJkJJh+ddKDtuK/Be6WtkKJrFqc0K7m8QcRNieqFIAdUwHEWJyBLrFOKwqZp2F8rdoou3JDOqe+5klJcPi/NbooBJznwT5W61aNXP+Fhx/PKg1bh1huJIgd5sVu1LWMaBo8SgvRoEAsZiyd4LrLL89WZVFMNH3sEskZFhT/Re62trKybezaWdksjETYbUnDUkG5hiQXwCHeDR9YXkkVOYFm1Ut/TprgERIxbDkAIKxpFJdTf+FruiNvkRBsISzjceaBHRY/0sIjj1VBEJIonSZDt+tfGJyzuv9/Q3JYNLrLBVQ5YTe2O6RimFBhJdUyptq/wtdE9rUzJtvlRPReuxC1LYnQ8kxIL8ANcUj6v79Daa4zjIdLa+w+oYILKlUHPMvdE3IyNTMG27jsZpDh+LEVgTTyKxPgrKOAdUVjyhft973QklGL6lm0Po6K3jK+0JKhuVZN5XNifwue5NNTd6z+ac3HqKVOALBtKeKUsiApzDioACauDxQKdi+M511lgqokVFHyyusviGcSyplW23+C12tbGrmcVsMtKxJzEF4jIzep3wDakU8ykT4zkTXWf4FV91zP7MkY1jmI17Vtlr+F7q0Lc7yCoIyX7kahRm3jjBcSZC7zY56EgyaDo2DAgTFotyLUT7Sd2SU36HBOmui72GXSMawhMOPirWVa+VlNYKpbWrmEVsYKppEzERQI5PCcpO6Yhk0oLpiMQ6aPt+RjLVEZSwlc+oly31wnTVAIqRkWNYnwQn9C111N9drqcnX2saVnnhC+F9CUHvS+oKmA9utyomDAi0G2ni+s34Tgul3c157kuVeCabwxnaDlAxL8yPXk+Ac+0lw0o6mZm5ufoMblS1JTBEee9KUElIN4zIdvgFFi0eIUb7NdRYME2xxnZVXWH2j6lOVJ0GzyzSCJdkKgjKzZILQ1+DEVkR5t42C4BfZg6aDVsRiHLT2fQXmN06tJZx11rgsCZIxLOF+EqT57riVIDNnbiM1PebW4wiEZk8e6D3IN6DWxTANBRNbZ5kj0xLOOmsur7D6hyD21Nbvsge35vanJh/c2ocOWjfmIEZ3YVkX9BGXAfkF4ItFuRej5LTXWXScWuusuud+ZknJsNSToLak0p4Em7tMW5uaeVim1C3G7SLIvSXHOQCA5HvKJMXFfGQZoN3vhZIMHcc5Mi3R1lkqkGXX5N63jpGSYc3Kk6Da1MyLzTXJSGjlJGKVoeZgIewjtUynJbHA6GjGvrMk6yxlXto6S1tw5UfCvjGY4pMgf/MbZYF/hDG0wYknhP8lRHmTjT7W5vgI34BaEQNA0Hemts6iI3vWWVN4Y7tBMoYl2vsXuiJKordy8r5eO7R7mjFFlLeUIDfZWM7xFL8A7YpFJeD6ThfWWXmF1TeE7UlwCddWnE3N3NU16rbGU8D10qxpuHyEb0CTEiubiPCdpVpnsU55H0jJsMwP2q1e0HxrawmmZu7qGiuWJGYiyntLAKNvh7o8xUy64qAAEWJyzlvwnQi/MweBMRlhW2flFVbfEMbySnR+UzO35FX35KAvUTd2IICqj/A9ZRpies7R0vNdtN+hzjqLce77QTKGRT+0sq6tumlhBWZmlJ1o3CrlwHwfwcTEMiQemcIMrbMm9r51jWQMS0z+SZC/Mc1RzXzcVNnm0KEmEavMyAeCNoGqYHJivwAAJvQ5uqNEZSwl4K2z8iNh3xCNnwSb1MZtaua0SaJm8YSwvYRg2UQtT5mImJ5zm1XFr7NM33EMYi1RGX0yIq+w+oroxtqq1qZmruJIaP2kY0p3v2xlFxfHQc58xR2qGatVxfsOGcRa4ltnDfIKq3/snsftnxjf/BEBU8YJmLLvzwPAvd/FvfOABIblDSgBCaHiCeQFETjzpEvPA8DiLfdLyOOQA8sGYcuXSTjylS5jBNiSSqyPab7cD+ZHM//fnyydRR2NBOBOkiYKNzGT1aY9qWqrI/iSEgDmf4ZESMawHp3Ho/MhUSf5338TUnSUxVvuXwxpOsi987h3Nq+UFEjGsF6zHedvBxjrGk7AlDUcobh13vp2/ObbyOKl+H/EQz0TmZf6ggtqudQgf8t9AOY++qYJLaNs+SJpWUaVYs/LjXv/zy0SwP/4KCABlAcE7oJLGBpnstocjaYl2Quu7z6E+YeQAskY1vnb8V8/Ov7g3BUEBXxlUBBUvuddAPDh/4nf/E2IIbAIDIHhZGMxBBrGw5FhfeyyOchlGBabiudGGUni4TJIazxXKjmF1ZfzF9KXGxX+cH4Rt+At2/Ghj5V+Icc+rJ56hZHBkPQaGTqOMDK+kR0llZGHgMTffDEbVt+QGEiWfQR9hC/gK8386JKE7equG0tuHBSwYvdbwIWv1OAXakopgWHZMQT5IHxQdijKjCzeKJKhGjkse20a1sgOwfh1SSYRkjEsAQgZtonWBXylaopixuVFGDaIYDxkxeNCTlzXrUz4Yk0ZXeikPBcjhsX7IMp21SYkLF4jBxBuFxslHS7mG5mUqEEsxlcZtM+kY1iOFRbfR4JBc0ERjJAQKna5jMc4asZBgR4PbbGJNWlFU0YXerAri9tfkO7iYAQg6FcHeIsdinIxrWrUyxzZJtCMT9JGr0nHsBr7SCuCoHJ019Bby2McnKUQI7a7D9O5ioAJX6nBL6ynJKdjZAuyXGEVMV1nsRY7DhdTSauLBUYOLd/SISXDEsYjId9HWhR4lEB5+VX3NYyjfuwTDHmxmmpdtCr+IO0oZcUWxtJh+YYIQAJCfWmz6iNFpoXPqoyqIlMZ2RBQ48srrP7B/tC9uYCvVE1B5jneAwDjQaxBHLSzcBxE03BKCiarlIZFyHJfbPSdGX/1PLTYEXC6mCqRiPoUrDoIFfCPf9ZJxrDifCQYtCUY3yyoBmAbR/14FAwbxBIWrEkXfHG00lJYrKGksWm9gmwQZTexiSIX8ZSHMiPJwKZGH7kqkCiNbzxEz0nJsOgKK+gjfGVzAVDeLHRPm8GHMmssfXFQwIrpPD0EBYpJKDVkMXXNPVBmZOkAomwKtYky43AfpacZqmnhUzDb8i36XMwc6RhW+UjI9xG+MijwKAHjztcuP45xWGP3EmksbhJHw6+NVjoLpc2qVFeBMiz1FknVFKWo6iwSUU95sBtQYGRzkEp9n0nHsGr6SF0BX6maAuU9QvdGcyTzPJTVjIMCVuzC0+WCX6IpaxdqViXGB1Y5KlnuBX2vVKYD33XQBskfuvcOgcCH7kGj4SuZAssN4mp6jIOzFOJ8g4HG1hdSsYaZscKUoY5SI1AojU3zhPAjocqIsqaVpzzEfApGl2/pkIxhwXgkjDAavjIoKKYEGtA9ynuqDMJLHkYcFIzioTumMzTxdGlEKyMLZeVmt6MKfI+EgCiaXfquQ15h9Q6/fUQ4TlDgVKr7QpK9qwmAuSwKxbr7yPqxiTXJ7KVoyuhCO9LhVmJ8hFBHSANBNi0DdOu7DomQkmHV/dC9ucBUCpB7TBp7s6mS1Djqx5bksGasTSmC6BH4hRalcgAxPgVQh0dRxWqFVSQFffeqmVEKFR8ZjdbGZ1Va1ajW/K7DWN1z0jEsCTGBP37mK8dXlSR7f7PYu5ZInLgaNIrp9Kx4uqxoen55DSU5kvAj4ZAEgmwAZDVTaYpS4PYalYz5rIoxcn4k7B0CkX/8zFcGBSOksXc1VcwxFMcyapxsEltx5SmahlNS0IJSMkxKjE/ZaCAaCLJpzYpAvbkOr6lguBhsmphPwRIgGcMCw1AmKhjfBSCBv1kSfljjPwlGxIrqrFqAP2BtpbTdzmJ8eKONatRruB4JtWYlQ77rMJHPquAbOa+weoewPRLWchymwFSOLiZJ9lrTmiwJG0qTbzC4YjUgE4+ylUE0NKVeWNzpYnw86uz4KHolMSz17kl3c5wR5UDNnvLGsrhPwXpNOoaF1v74ma8cqOtR3VGS3SxcAzYTYcRBQSAO3gQyqivYS+ErK6gjCR4DAEH0ClnuBdm0pikAyD/GZfoI+ylPgshKjUraPwWrjNtnUjIsvtHwlUHB+OIHCTxJa5O5LCrjkeMEY+mOTazJ5vCH1ZT2QhnyKTE+VF1srrBkGRQbGJkpfNfB4mKVIfpMOoYll+CPn8c3lSR7f1NLAkDIXKpxUDCOh45Ym0mQoDIoUGjKeoXSuLXF+JghbQKKejH6SFjkRZ3MKIWKQxVEPuVxXCwNkjEswPlN9yaW5FKOLll1C0hjz2yCvVzyuE/dOIhH07Dcj6+wcBlZ3Tg3Na0qkOWevpm0ac1UmqIUVL0GsK2PGn/XIa+weofVX4RhNMGAJTCv/LpNbS8BhtHYBZxvLTT5BoOni4k2An9ASSNZ3560quaPhJWmKMd1eE0Fw8Ws6yz/p2ApkI5hhX5xNOhEfOX4RpJkrzU5GpVhPMQF7YwV0xd14enyoFXxBwkrpfu2FeODhPQqQV6p7iOhUzCt7zrkFVbvEAj/8bMKmgiA8spX1z+/qSXLOGg0wY/hWbELT5cGX6nBL9SUUjMgMT4wSN76g5aAxIJsCGWcAlG+jM1rrOssqa4jm8b+KVgypGNYEoKssJpYkkswvsok2WtNa9LbDLtVSBCOo/HXar38F+IqpbHVdShaol516PcgsgUFgOW/G46p+VmVqtKeH/MKq48EHaeuQFOOLnh12fObLo1KSsCxLBJy9GwYGWuvpV7RhaerLvyh7EoZZU+eqiIvaz4SBgUCZRYWr7Gus5jf2BpnKuo+k4xhCUDU/+NnvhIo7yt1d0ljX7epmNzayvWK5KW5WJUNy63I4v+sviPGRzjaaplaQRFXHMfIBAV6RpQZw6H4n1UJWmauvBIgHcNq/KG7RzBCGvtaTbfGukQS6n4MxtIdm1iTVvhKBb/Ep1T3uxgfEtRhB3FVqZdkPhIGBXpGlE3Ta9wuNsbmYqP12nignpOOYTWzJJdAoLzO1dXuaXI0tEkDCUSvrWp9g8GDpyRiNNSpkjQiBxNGVEs8VcxHQq1pCnwlonyxqkNJ8D6rcnwKlg4pGZb5SGgGQYGmBMp7ie5rNf0alHcQWTrZ3YfjXNa1FY01PF18+INoSkuhZJiUGB8tS4+yRFEUUsdBNYOQwFfS7LsOposh/y1hHwk9EppBUFAMCxpYmxyNq6TsCq+thnViF54ujehB+C+hIaXNfcT48EYb36G0Em2FVcSCbFrTFHBLRDkP4keFUlt5KY2k5YYmG1bvoEYTdCKOcnTj0X2tJkdTMGS4FT/WMDMuPEr+ICZarXOo4g4V4+MZbRH25KpSr+15JNSanIxd0Pp3HdIgJcOK+8VRMy9Arm1J9lqTo/E3JYCqWw2bxfSFgniU/EEKND2/XKr/KbYW7UlDVN8DWbUYrQlGJigYZTH2I6lytnWW57sOeYXVO4T7n/kKepamBKrXtrav1fRqxldhcN3EiYN4NJzyAr5SESiRXscR4+McbXx70qr8j4Rak5MJCtr/rkPfScewiOOYQdCqRoG6tSTZ+5scjauk7FIft8fH2pjlyC3AHIQpg6aUhgGJ8nikrdcFp0q9MH0klH7HsWWCgkpGlK9qPuW5XWxMUTWu6TkpGRbzQ3ePYHxJS2Nfq8nRlEGNNZQnpuNz8Cj5g3hgDTIs73+6cRwqokqUc1IlXMexZYICQZvkvxvSiUpwv+uQDskYVnH3Bi3JJRDlIOO9v8nR8EskwPllGL9b+fHImCPAUEYXjlKSYTQob366RVQNySSUUfodx8wEBVpm3BTla9f/uxwgr7D6h6iusOp61ghp7Gs1ORqzCYCzhpLtfYPB06XBV6KO2P4NhgIxPsjRFmFP1irtMyyO4/g8yJ2xC2y/B18oXS4mVXmlr88kZVjlBcL0LBWM7jR1v3maHI2/qSUBaE4k2bGGmeF0abQySIFT3/xDK62EWaUmRD/DsjqOmQkKtIxd4P2ug+lirKPqF+kYFnkkFHXMCyivZHU9S2Nfq8nRoLzRYDjRkBfToZrgGYQzPkdTINX/aBvnrhSNS8rTDZSBbMWD6paIchKlH0mldH9jK6+weodA7T9+Hl0E5mUcbHI0zBKM76b4tZWJR8MpjyYwuIz1moiqth4Jg4LaJaLMmJ9Veb/rkALJGBYYj341ngStydZLVMb6TQVXTGvpIC48XRqtDEKpVEnHrSfKo1Ib5w6NqFKzqftIGBQIhqCSEeVUqp9VqQxF5r8l7CH+R0JheNb46pVk729yNBElwfWUFtMRrHi6NCYxiL1Q3YNifEijLWg0aK8K1cBvMUGBlgkKKpla33UYRz0nHcMKPRLSACD3lTT2tZocjaup4mLjfLPBiitv4lG2MoiJBDlCGWs0rVSpefMfCYOCuJJRU5QTYnzXIRFSMiwRegYUgFBvvST7Wk2OhlmikAB/bVULTxV/wKDSJ5AMuxHjo2XpYZRwqoYkYBmKW9C8ZNTkfdchPxL2DuH4eRn751YqsDY5mnZLgt9s0DAznC4+DceXNDJ9RIwPb7QFvQZGVUSJOu8qCBtKnUxQIKwC3ncdEiEZwwLCf/wMkGu1bpOjqVtSBoFvNtBaE0+XRiuD1KCYuhgf22jj3IOtVEU8EmpNU9C8xCIQ5cxKh5JKOYDIf0vYQ4Ifuo+QZK81rclJlyD0JGhiTVrxKFsZhKLL1JFEGM2EqpT3+x8JtSYnExSIoECUGXNVNUA6pGNYns+tUN5O6qbiNzmaJiUFQ4D/DQYPHj1/qBYGkV7vEOWxqW0S9lRAqxTqnahhKG2UBASinF/1vxJK5BVW/xAYr7D0z61ALlGzaU22XqI1JUDnNolvMHi6NKIHsfdKw0rE+NgsvVa0klaqzBVW0eQaSmxJUDDOOL7rMBIlQDqGJe1//AwYdz6nydH4m3zNhL7B4MEzSJPxJUovkNUtwmsiSoJV6ti0R0LJN5TYkqBgnBHlLKu/pJwIyRgWrJ9bFW+0ers9TY6m9RIAap4SsD4J8q9Vj5I/iIfwIMXUJ+E1BaJxSYF6M8L20cyDggJ7ifFdh/xI2DsEKh+6j95gaexrNTmaJiUqlkDE51Ye5dQGkTRyOYgYH+Roi/CauCr/I6EM2YeZCQq0TFBgL/F816HXpGNY1UdCgNxL0t3kaKZQQr/B4EHCiadLo5VBdLTPW2R1Cx4YplKlDm+ouUOEoYRKgoJwiSinm/+WsIcI15Ogukr5TY6m1ZKYbzB4ujQmPkgxe7W1bjSK5lUgcVNDCWWCgnCJGGVGfQmQkmEJCQFya0my15ocTfMSrenQjOasaZrgGYQ/PncQWd814kqaV6l5D3n2ETYUWyYoqFciKjPvPckYFiQGchSM902aHE3zkiLgXJAeDac8SMz40mEiojwqtUV4TUSJv8r8DKsFQ7FlgoJ6JSI/EvaPv/kcvrvL3e2/paN7owsBSMw/BACf+BJR0hIzWVfm72XKXEkcu+obgBSAgMR4D4zuL7rXNIhe/PEAACAASURBVI2U0YXF/PfM4/9ehbJ3hGYIE2rylWYzEZIxLADzPwopOklhWzOInH8GmofNCHvmQ4rMEpGMYX30T/COSwGUd5B2H2lrBGuvfR3h7eUM6+79xJcw/xA++t/wjgsBWd0K/bAaw5AVvVTm740bhMokMMRV/w/A4M5rB4DAcAApIAcYCsjB6Acy9WQ1Vr3jeI6trPlCaobDJ78j52+RZ2/Hjo9BkCWMwLgpSMbaDMqsw/qbZrm2//In8NM0TDYZwwKw/RIA5X0FcoOZTY5mWiXvuBDbtxFTGFY9wtNsvYuvBACx/YzCCwYYDkgwZ0uSwJ6c4yprlYgBhgOIATCAGEDiFgA4e7vuDq4mJxMURJRozW3bs2H1DXUjSZKJa3I0zUs0Kl5QbUpH06OM6+IoTaQRWJP+Xn4yomQUWzvqIktD4RNRkizpGBaMC5LT5GimUEIzspr3d/GVcV2mkpYopBFYk9KRVDCTMeNIm0J2w0qC0zDPeF9Jx7CkY9+kydHElWhdakM1Rv0uU9nW+CY0KY2An4wosSbtvbLaQfuE48CaIEPuk/GQjmHBdnd5mhyNv8nRuJomsjp/a9OjjOviK1HVKLRCLeAnJzWOtLmSNWlFdsN9OFPtB+kYFr21QO4xOJL+Jkfjb7o0WgwybfMQzC6+Mq7LVCo9rdKQ7qBhUjqSCl9SVo2JHpuC6VwuZH1HiytJhHQMC7aLm9PkaJqX0ECLYcxcktpgF18Z3UU1FJqUtsCaVDRJhktk1YyEUeNaeS05HZnGkpCOYdG7C+RSDCZbL9Ga1ltLa0qyoRqjfpepjBtfCahMg2akEViT0pFUMJO+caTNrazjwuZcLSLbcJ/JTa9rpGNYqN5m2sXJaXI0TUoUrqYkt5V0ND3KuC6PEtWk1kUzZhyRjCixJqWaeoHnMyytK+hcsg33yXhI1rD8TY6mxRLaZY0lKZGk19rFV8Z1qV6FNQljHDNpVXqSLYxTNIQRUMxM0KqYyPqOxilpZW4zQTqGZV7rdF+rydHUKlHQphZr81dNTpep9HQxx1cZhZnRktIdNExKR1Ih6f+YH7TTpKzKPIssybCSKWA9730lHcOCcZVymhxNkxJ/TJFkQzVGq11BpYKTQTUjbYE1qWiSrPQWDesH7dpnWFql1bkmhIwywSlMrCOkY1jS2HOSkyvxxGaXrMayGkujy6WM67I2FdaMK+AnZbvjFG3XfxaUZA+HRsF3LhnlPhkP6RgWyD3gv1CtTY6mVok/BpmtiqURu7r4ylpdCk5G5bWgYTKixJJyOZeSWZ8E634GH0TWdzRrScNpzBDpGJZ240my15ocTZMSGmix2QQZRJu/rNNlKj1dfqWCk4Exppm0Kj3JeuOohvWD9uCH7vxFlqzvPpm6pGNYILeftq/V5Gj8JWYc7JIkMJswmg27rEqqD2ZcQUQvP6n30pn5P2insdpPZ5HlR/JMcKJz6BTpGJa6eune3+RoapXQwGy6uiSZvNaUjqZH2aRLYSatMlSH9SSlI6lgJvVxiobVmMyk9TXgcKUIq5I898l4SMewUF5g2mXpSbZeQjPWpucWkOSeorGry1R6uvzjw2i6ki6ZFvCT0pFU+JJmn3+dRbs866nJLbJkfUcz59NvsmFxmhyNv4QGZtPTRTOy3GA0G3Z5lBQz45IFg4bJYMm44f/oivkZFse5NGR998kEScewtFtR2zdpcjQK653m6lJ7acRml0sZ16X1UsyMK4nqOKbSDPhJ3ziq7XcrTakwSxSe5BRWOtJhgpN+3e6QjmHBuEojmhyN2fTE/i6al9XxVVM6mh4ls4vCyXiSWmBN+nu5SToD/wMgjUX1XFA9HH7U/PFQ5iVYfdIxLOvVGEy2UkKTZuzvQnVYSQaXoS5T6elyNSmcDLwZ2mUmpSOpCCRlaEnlX2eZo9ddZLWLZDta6y/dWdIxLJD7wX+hWpscjdn0xLW66Mwl6W2xizYpcRkzbwb8JGscyVhSWZOm10gj2XyRJdnuk/GQjmFJ23VvbXI0/hIaaHFcF528dDQ9ylpdqMZNMirvChomx72yzpIqmKQZ/npqEossP7I0wSm/7hKSjmGhfFvNfa0mR0Mz1ia/i+Zl9eVUUzqa/i5TqSGNZFwG1Vc0ZWbAT0q4fzvU/wDoSlqbqL/IqutfMi/BGKRjWOoOoXt/k6NxNc04okuNTDOymo/uMpW0RGEmORmVN2N/snaJpA2GMXnszDwLdf2orknVQrodbXIv2jXSMSwY17Y09rWaLo0WN++SZEM1RktdFGlkrElOBtWMNAJrUjqSinGyiPjPen47o118P6pragUyr6eiyIbFaXI0NDCbcV1aXpJXtDY9Sn8X1VClhjUTLNQmoAX8pD5O0QguqaxJq50paIbvR57kpJnCS3SEdAzLvG2sTY7GVaLF/C6ElJIEdA5ml6n0d1FkVMaVRDUp3UFMsvifoAdFJGHrVTRM8pF5CWYjHcMqkMa+VtOvUVjvuoZdshpLI47rohqqrJvxJM1Ym5Wr15ksGhEexElqXaqXv57iJJsjiaO1O3KXScewJLk9tCvW2uRoaOCJm3dJsqEaI6rLfKFWMi6ZGfuTvl5TFPQg5jqLniaPyzRMWpF5PcUjHcNC9V6Sxr5W03pHaXErXbQpySFIR9PfBSNPaStDu7SAn5TWpIqYHqTF/qTCzPCXTvxki0xo2A6SjmFJ2z3Aafo1/ritLjVz8yhqdWmvAkfGnExERuW1ID6pGnwP4tuZWV7XevjJCGReggFIybBQXjl0z0m6mjTQ4ta7ZLmZzYgu80W1jDUZl4ExATNpVepJlQraTUQSxtTNw/D4EcfUJrrImsSY3SQdw1IXJN3XampJM55El8pIsqEag92l4GSYMmvGFbh6wyVFu64HMZOaj2h5jvXwk7TLhczrKQfpGBbKK0S7dK1Nv4YGZrP1LtqU5UZjye4yhw1mmDJrIaozr5sc95opvgfxk/Rk8V2mbnISi6zWB+ws2bDimlo8oS5ZjaUR87sUcRmmzFWoBfykpI0ID7KWu5IKmuEvnaKTsv56KqKkH6RjWPRekmSvNf0aGpjN1rtoRhqHIOt0ma8SkYEj4zoET8BNqnbQbqzJOI8DIOsvndpN1qJh+QyRjmEVSGNft0mTZjyhLkkCs+nvMsdpPeNKgiRpYE0qpKnj2w0/CSNpnY3qjVg61U26KJQZpGRYklyT2pVpbZpXr3Zp0aanC2ylq4vOXGvyuxRmsq2MJ6kF1mTlQGTIbpge5Elah1J6vst4rKdhkk+T2tkiHcOCdksY+2CTJs14El0USeZPY38XjKYr2VYG3oz1YPWkZNiNNdnQ4xRmhu8yfFNzOV2RrIU5jb6SjmHJ6t0lyT7Y9MST7qIZ8xCkt0sbwTpsUBaXMfNmYE/KOnYT9KBg0hxKVjMcl+EnaRcnmdFIx7BALkiQa8OTRPUS0i6nKXTRO0iLg12oxq4MUxaXUXlXoCflZDwomIQxe/NI+C7jSXJMLehcRYmWSYRsWP6mJ26lC14lzdMbijatXWatPwNHJljIyaA6PVMm6f+oLN9u+El4x3dp+C7TbjJjko5hqQtSuyz9TTOechfNyOpRSEcXqnGTDFNmLYTjuOzJImrRg6zJ4FAFso6hTDpZvK4f69nvJekYFoyLme7NJozLYAm7JJmeGdOmNkgrGabMVWjGerJoB+3GmmzR4xQ04zEUjqk1TGY00jEsejtJsnc1FbS5VF2SzJ/GrialrQxT5s+YwSji200tD7Im/UOpPcdQPC4ziaQV84z3mHQMq4Bek1qTvunaBTDRLniVNE+vTNo0S8xruK0MeC+n8mZcCYrGpD2IOb6ZN0s4SY6p1U1mCtIxLEmuSe3KdF2otLkkXWp6NCOreVOjMJOTy3iSZizt7Tp2w0+CPT7V1zWU6CTt4iSLEcxkIqRjWACkcQ2bl7QnXqouSTYYsVZivcLNTLAwLuOSmfFkfzuUP5TLFDT4hlI3yTE1a3mapGNY6kYy9zCuB+s9Fmy23qXl6SFosan0Z5iyuAzt0oJRrNpBu7Em+R4UHIomFXQcvqG0m6RdQTiafpCOYaF8W+ke1ffaFS9hV9GUJNDmr2lqZZiyuIzK6wKV4ttNtAcxhxJkfnRPZXxDaSVpNbVMNixP3KkuSQJZTZqyWhmmLC4D87iK9nQ8yKzyJP0ahcdQppDUCAp6RjqGJd2XJYx3vGtd0jZ/2tU8A0cmWGjNuAJLim83ER7kqnINVSB53uExlMklk7Ink3QMC/4byXbRcrrAVsZ10aYsY2nTTCjDlFkLUZ38uNGiMUUMFRyfHklDQ5lckmJOpq+kY1jScUF63vrudElDAEfGHKeVDFPmm6fqCHqQNdnQg4JJgQqyjndEJ2lXdDIp0jGsAvOiNZsd7JJk0/TmBcyRxWWYMqkFVMG3m1Y8qNb4RdM8Hr531E1yTM2TVJjj95V0DEvaLkXPm96RLjNjPQprVVAWl+HLAMZvh6JOsq4HFTCTtKuud7SbpF2cZDqkY1gwLkuaNONJd6GmMiLDlMVlwHk5GfIIGvOTqJPkj6+gmVYMpW6SY2o0aY7TV5IxrFu+iVu+GRJ1kqs+F1J0lMWVXw1Jusj+eXxtZUiUWSIGIUEmk8l0hWRWWB+9Bh+7FkB1+awtpTvWddVnMf847vwTbD+nXPirDS1lmLKamZVfBjBYeK/AUEAOMBSQNBAYDiDL3lFQJiu9pGrc26BK76VDHZgf3nuVXL8db7sTAAQgMArofmmT1q7vfwL33YIUSG2FJWe5i2LK4jJWOIWcjAtN6W+6aGWQANZRljYZ7Oo3qRkWJe56mGaXgqOxwrGVyQ3eiom0MmajQfhuMrkkX99vkjKsONfobBcnY4VTyMk0pJGJOGhlEDt8y5hE0tPV5kF2nqQMi1L3quhUl4JjK5xxrHCGisjEzacVd4urqsC3jEkkg129J1nDosRdG9PsYgpcBE3EmmHScKhWnEijlUF88C1mEslgV49J07DiLoMudHHcgXklcwo5GSatmEgr7saUVeC7yeSSfH2PSdOwKBGuMeUuDY6JcDJMOEM1P65WnEijlUEq8C1jEslgVwokaFhxF0NHuvhwbIWTYcIsbMWYWhkkHr7FTCIZ7Oo3CRoWJe6SmGaXtZeTYcIZipPxU1df0IoTtTKIBb7FTCIZ7OorqRlW3LvfkS4Kx0Q4GSacofiD+02EOU4rgzSFbzGtJPn6vpKaYVHiXGOaXQqOxgrHVjgZK8HCVkxkEoO0DN9HGiaDXb0nKcOKuwY628XJMOEMFT24i1bcrZVB2oHvOw2Twa4ek5RhUeKuhI50KTi2wslY4RRGZJivrtEhY1LwLWYSyWBXL0nHsOLe9I50MQUugiZizTBpONQknKiVQbjwLaaVJF/fS9IxLEqca3Shi+MOzKuXU8jJMGnFRCbhbu3A95GGyWBXv0nTsChxV8U0u4JwbCV6fM5QzY9rEk4UV9UIvu80TAa7+kqChhV3AXSkK9ir4NgKJ8OEWTgJJ2plzDbh+07DZLCrfyRoWJS4y2CaXdZeToYJZyhOxg9T33UnqgXfd+omZ+xEtEpqhhXnGh3ponBMhJNhwhmKP3grxhRXNW3qmhEnGezqMakZFiXuYphml4KjscKxFU7GSrCwFU9pZZDpwfedhslgVy9JyrDi3vfOdnEyTDhDRQ/uohV3i6uaOHzfaZhMjaQMi1LLGrrWpeDYCidjhVMYkWG+ukYr7jZt+L5TN9nRA548yRoWJc41ptnFFLgImog1w6ThUDPpRLWoa0acZLCrr6RpWHHXQBe6OO7AvIw5hZwMk1acqJVBlga+GfGTwa7+kaZhUeKuhGl2BeHYSvT4nKGaH5ffiZiDzAB8M+InkyJBw4q7uzrSFexVcGyFk2HCLGzFieKqOgTfjDzJmT8LUSRoWJQ415hml5WJGk1cxg9T77cz5iBdpK4ZcZLBrl6SmmHFvfUd6aJwTISTYcIZij94K8bElHUIvhnxk8GunpGaYVHiLoAl6Yq+IDm2wslYCRbGOZFGK4N0CL4Z8ZPpkJRhcaxhhro4GSacoaIHdzEJd5sZ+GbkSfb8HNlIyrAotayha10Kjq1wMkw4QwUzca8eV9V16jqUlX6eGgfpGFbcO96RLqbARdBEmBkr0YUFfjurNdSswneoJE6Hl3QMixLnGl3o4rhD9FXNGaqtwaPH6S18h0r53KVpWJQI15hyVxCOrXAyVjiFzKE8+O2s+fhdhG9GnmQ/T42bBA0rzjU60hXs9cAxmhYHt+aTcKJa1HWoxEnQsChxrjHNLmtvXMYKp5CT8cPUp2tnfIdK6KTYSM2w4lyjI11+OLbSkcHTNSY/fIdK9pSlZliUONeYZpci2h04hZwME78TMYdlynoL36Gku6uvJGVYca7R2S5OhglnKE6mFnF2lgp820qKpAyLUssautal4JgIJ8OEM1QwE/3qKZJtSyNZw6LEucY0u5gCF0ETYWasRBcWZDurwHeoNM9UmoYV5xpd6OK4Q/SVzBmqrcGjx0kCvkNJd1cvSdOwKBGuMeWuIBxb4WSscAqZQ3loPkIP4dtWOiRoWHGu0ZGuYK8HjtG0OLg1729mLGTboiRoWJQ415hml7U3LmOFU8jJ+Kmrz+hk2ypIzbDiXKMjXX44ttKRwfnKTIVsW6kZFiXONabZpYh2B04hJ8NEK/Q3M2GyQ2kkZVhxrtHZLk6GCWcoTqYWDcsTItuWIinDotSyhq51KTgmwskw4QwVzES/eupk20JKhhVnDR3pYgpcBE2EmbESXZiJIfGTm45hUeJcowtdHHeIvqQ5Q7U4eCaeZM9mmoZFiXCNKXcF4dgKJ2OFU8gcKtMyCZ73BA0rzjU60hXs9cAxmhYHt+ajx884SeqcJmhYlDjXmGaXtTcuY4VTyMlkpkfKZz81w4pzjY50+eHYylINHv26GSdpntPUDIsSd4NNs0tRyx0onEJOholWGD1Ohktqpzgpw4pzjc52cTJMOENxMpmlIZ13IinDotSyhq51eeDYStzI4A0VPXgmE2ZZSNAX5ndjfjdp0/uK7xpLUfWdPWVTkrwkGX+zSaFWzhxnlJTzvy6SQ0gBKSBlGQiSFIDAUEACGIwDKTAEICAH40CCjODZqkONguBQB74zOpj98wAgUEEYe2uX1qsl647p77V29Zv+G9aWLVsAYH43rvp0QNpNbrkHt4Q0nUReda/E7LF/Ht+7KiTqHqPrvO8kYVg33XTTzp07Q8JMZobZsmXLjh07QqqZR3z84x8PaTKZTKYTJPuheyaTmT2yYWUymZkhG1Ymk5kZsmFlMpmZIRtWJpOZGbJhZTKZmSEbViaTmRn6/8XR3nPJJZdcd911RXz8+PGjR48++uijd95558svv+wvnHWSPfCUySusmWfTpk0qXrZs2Zo1ay655JL3vOc9npJ+kOyBp0xeYc08p59+OoBnn312165dq1evPvfcczdv3vya17xm+fLlx44dC1XPMMkeeMpkw5pthBCnnXYagN27d//oRz8CsGvXrg9/+MNCiBUrVmzevPn973//wsLC9773vUsuueSOO+545JFHAJx44olvf/vbX/Oa15x88skvvvjik08+ec899zz//PNq2A0bNlxxxRVnnXXW8ePHb7311ieffNKTP+OMM/74j/94cXHxk5/85HA4LJQf+tCH1qxZ853vfGfnzp3nnHNO3DQ8+A/82LFjQohLL7304osv3rBhw0svvfTLX/7y7rvv/ou/+AshxGc+85nnnnsu9AqZLpINa7ZZt27d8uXLAezdu7fIbNy4EcChQ4eOHDlSrEFWrlx55ZVXAnjmmWcAXHDBBddcc82JJ55Y6E855ZRTTjnlta997ec+97lf//rXAM4888ybb755bm6uEFx77bWf+cxnPPkNGzYA2Ldvn3Kr1atXr1mzBsCzzz6LcilUdxp+/Ad+0kkn/c7v/M7WrVuLrpNPPvl1r3vd2WefLYRYXFzcv3+/a9hMx8mGNdsUXgDg2LFjmzdvXr9+/RVXXAHgwQcfpL27du26//77X3zxxS1btrz3ve8VQvz85z/fvXv3/v37169ff/nll69evfqqq67613/9VwBXX3313Nzcww8//MADD7zzne88+eSTi0Fc+cKwCm8qKNY+qBpW3Wn48Ry4EOL666/funXrwsLCvffe+9RTT5144onbt28v5vmrX/1KGWtm5siGNduo+/bGG29UyX379s3Pz6M0jscee+xb3/qWlHLVqlW/+7u/K4R44IEH7r333kJ85MiR+++///LLLz/rrLPomC+88MLevXs/+9nPaq9l5gsjUCsdpVxYWHjhhRcQOw0/ngN//etff8455xw9evTzn//8wYMHi64nn3zyL//yL1E11szMkQ1rtlH3LYDFxcVDhw49/PDD8/Pzi4uLy5YtK6zk4YcfllICuOCCC0466SQAF1988cUXX6wNpb4N8Nhjj732ta99y1ve8uY3v/mhhx6an58/cOCAJ2+usIr/frdv3z4pZfQ0/HgO/NJLLwWwc+dO5VYAXnjhhaNHj55wwgn79u2zDJeZEbJhzTBCiMIavv/973/729/Wejds2CCEQPmZEao3uYn6ZOcrX/nK+eef/7a3ve3MM898/etfv3nz5n/4h39w5QeDwSmnnAJAuYMQ4uyzz0ZpYdHT8OA/8OLDrKeffpom165de8IJJyCvsGacbFgzzEknnVR8aG29CQtfGA6Hv/rVr4rM0aNHi8ynPvWphYWFIrlixYpVq1YBOHLkyNzc3HnnnQfgF7/4xc9//vOLLrro+uuvX7lypSsPYPXq1YUfLS4uFgO++tWvNj9xrzUNhPAfePER1caNG5VnDQaDd73rXUWcV1gzTTasGUYtVTyGtX//fmUle/bs2b59+2Aw+IM/+IN777335Zdf3rRp09vf/vZVq1Y9/fTT//zP/7xs2bL3ve99AB544IFHHnnkwgsvBLB7925XHsSnfuu3fuvHP/7xaaedpn6olxpWrWkAWL169ebNm4tXOX78OKr4D3zv3r1bt269+uqrV65cuXfv3nXr1r3hDW8oRjt06FBhl5kZJRvWDFM8Frn+O33xUTe9pZ944okHH3zwDW94w1lnnfV7v/d7Kv/0009/+ctfXlxcXFxcfOaZZ8444wz16dLBgwfvuOOOhYUFax7ASy+9VHRddNFFF110EcoFjpSyWFJFTAPAb/zGb1xzzTXFd7tg4D/wu++++wMf+MDKlSuvvvrqIrO4uHjgwIFTTz01Pw/OOtmwZphiofHcc8+Z/51eCFH0ak9At9122y9+8YtLL710w4YNxWPagw8++JOf/EQtf7761a9ee+21mzdvPnTo0KOPPrpz587iqc2VB/C1r33tuuuu27Rp06FDhx555JHDhw+/613v2r9///Hjx6On4Tm0YO9TTz31T//0T1dcccWmTZtefvnlZ5555p577rnyyitPPfXU/Dw46+R/hCLTRYQQH/zgB5944ol/+7d/C2kzCZFXWJnOIYT48z//81WrVt13330hbSYtsmFlOseKFSvuv//+hx566KWXXgppM2mRDSvTORYWFn7wgx+EVJkUyb+HlclkZoZsWJlMZmbIhpXJZGaGjn6GtWnTpuIP96WUjz/++B133HH48GFN86d/+qfFX9UWqF9l49ROGc6U1qxZc+WVV5599tkrV67cvXv3v//7vxcfOXNqpwNzJup9ueeee4ofjeDXTplas7rsssve/e5333fffcU3ZmvVTofglNauXftXf/VXWtUXvvCFxx9/PFjbEebUH1J0h82bN//RH/3R+vXrDx48uHbt2tNOO23Dhg0PPfQQ1WzYsGHHjh2HDh06cODA4cOHDx069B//8R9SSk7tlOFMadOmTTfffPPmzZsPHz68Zs2a008/fd26dT/72c84tdOBOZPBYHDRRRetWrVqbm7uBz/4QfFTfMzaKVNrVuedd971118vhNi1a9e+fftq1U4HzpQ2btx4+umnHz58+PDhw0ePHl29ejWAu+6667TTTgvWdoTOrbCEENddd91gMPjSl7706KOPnnXWWR/4wAfOOeccIUTx4yQF27ZtA/D1r3/9iSeeqFs7TZhT+u3f/u3Vq1fffvvtu3btOvvss2+66aZzzz2XWTsF+DMZDof/+I//+Gd/9mfr168v/g6GXztNas3q9NNPv+GGG4q/8d67d2+t2unAnNKTTz75+c9/voi3b9++cePGn/zkJ0eOHPnDP/zDYG1H6NxnWBs2bNiwYcPTTz/96KOPovyTjuPHj9NzJ4S48MILX3nllV/+8pd1a6cMZ0qnnHLK2rVrn3322f/8z/8EUPzo3cLCAqd2OtSaybJly9atW7ewsHDo0KG6tVODP6s1a9bceOONzz77rJSy+OtFfu3UqDulU089dfv27QsLC3feeWfd2qWlcyus4q/qn3rqqaK5ofy9cKrZuHFjcUt88IMfXLNmzRNPPHH77be/+OKLnNopw5nSwYMHP/WpTxWxEOKtb30rgEceeYRTOx1qzWTjxo1CiOLX++rWTg3mrFasWHHjjTe+8sord911180331z8bj2zdprUmpIQ4pprrpmbmys+qDr//PP5tUtO51ZYxR/3q/OlNQuK58GVK1euWrVqxYoV559//rXXXsusnTK1piSEuPzyyy+77LIDBw7cc889tWonSq2Z+MVLeBQUzqwGg8F73/vetWvXfvGLXyx+pLD4GWhO7ZSpNaVt27adc845zzzzzK5du+rWLjlLvMISQnzkIx9R/xDL3/7t32p/3K/+7Tla9dBDDx09evTxxx/ft2/fBRdccMMNNxSP3JzaiRJ3OAXLly9/z3vec8EFFzz33HNf+MIXDh8+zK+dNLVmovXWqp0awVkJIa6++uqtW7f+y7/8y/PPP3/ZZZcpQbB2+vCnECssSAAABJFJREFUtGrVquJXd26//fZiCcyv7QJLbFhr1qxRP627sLBw5MiRYkVa/Fg4gDPOOANkvQpg7dq1c3NzP/7xj4v/6l+c2aNHj0opg7WTJuJwCk455ZTf//3fP+2003bv3n3rrbcWPzLHrJ0CtWai/b/oWrVTIzirbdu2velNbzp27Nj1118PoPgN1e3bt7/wwgvB2unDn9KVV1550kkn/fCHP1S/WM2v7QJLbFiHDh369Kc/TTPFf4s5/fTT9+zZs3Xr1jPPPPPAgQPq13UBvPWtby3+EYSvfe1rQoh3vOMdAB5++GFO7aSJOBwAW7duveGGG0444YSdO3fOz8+rDzs5tdOBPxNR/vum6l8q5ddOk+CszjnnHADLly9ft26dSq5Zs+bQoUPB2unDnNKZZ575xje+8ciRI3fffXfd2o6wxIZlsnv37m3btt14443PP//8hg0bhsPhN77xDSnl1Vdffd55533zm998+OGH3/zmNxf/Lubc3Nzq1av37t1bvAGu2tBrTpDg4Rw+fPj973+/EGJhYeH8888vPgF97rnnvv71r3fncIJHsWfPnkK5du3aVatWHThwQP1j8d05CkrwiG677bbbbrutEJ944okf/vCHX3jhhb/7u7/z1HpfcLIED2fPnj2DwaD4qPeOO+6g/zRRBw/HQ+cM61vf+tbi4uK55567Zs2axx577K677ioeLl796levW7fu4MGDBw8e/MpXvrJjx45XvepV+/fv37Vr13e/+93ilypdtUtI8HC2bNlS/L+4lStXFr/8i/I5tzuHEzwKpTzN+EHk7hwFhX9EANavXw/yz/l08Ig4h/OmN72pWEb99Kc/5dR2k9n4xVEhxLZt2975znf+/d//fWe9n08/DqcfR0Hp2RH17HAKOve1BitnnHHGjh07br311n6c934cTj+OgtKzI+rZ4RTMzAqrVye9F4fTj6Og9OyIenY4BbOxwurZee/H4fTjKCg9O6KeHU7BbBhWJpPJoIP/ldDPLR//X8e3ACcCc8BKYDWwGlgJzAECWAWsApYDywEAc2VzDhgAA2AFsAwYlMe9ApgrNwHMlb0CWA4Myi4Ay8ggA9I1KD1/OekSpYDqQQanGiGBIbAIDIEi9m+LpWzRyFsDtV+sZo5Xu46XSQkcB46VguIfCjxaZo4BEngZeAV4BVgoaw8CR4GDG7HvVcAq4ETgBGA5sLI86yuA5cCy8v1ZRjb1JiwrT9IcOeVz1WCumqFn2gysTf8maCwh6DmOe3+KjDr9sjzH6j1BtVmUH6sKFsibVpS/Up7749W36BVAAq8ALwELwDFgAXgFeB7Yg7+ehY+APAxCgkwmk+kK2bAymczMkA0rk8nMDNmwMpnMzJANK5PJzAzZsDKZzMyQDSuTycwM2bAymczMkA0rk8nMDNmwMpnMzJANK5PJzAzZsDKZzMyQDSuTycwM2bAymczMkA0rk8nMDNmwMpnMzJANK5PJzAzZsDKZzMyQDSuTycwM2bAymczMkA0rk8nMDLPxD6lmMpkM8gork8nMENmwMpnMzJANK5PJzAz/H5LiLUoplYiNAAAAAElFTkSuQmCC\" alt=\"PNG image\"></img>"
      ],
      "text/plain": [
       "<mayavi.core.scene.Scene at 0x7f7ed15de590>"
      ]
     },
     "execution_count": 17,
     "metadata": {},
     "output_type": "execute_result"
    }
   ],
   "source": [
    "# add scalarbar\n",
    "mlab.move(up=-0.008)\n",
    "mlab.scalarbar(object=cut,orientation='horizontal',title='Pressure, Pa',label_fmt='%.2f',nb_labels=5)\n",
    "# activate figure\n",
    "mlab.savefig(filename='mayavi-test.png')\n",
    "fig"
   ]
  }
 ],
 "metadata": {
  "anaconda-cloud": {},
  "kernelspec": {
   "display_name": "Python 2",
   "language": "python",
   "name": "python2"
  },
  "language_info": {
   "codemirror_mode": {
    "name": "ipython",
    "version": 2
   },
   "file_extension": ".py",
   "mimetype": "text/x-python",
   "name": "python",
   "nbconvert_exporter": "python",
   "pygments_lexer": "ipython2",
   "version": "2.7.14"
  }
 },
 "nbformat": 4,
 "nbformat_minor": 2
}
