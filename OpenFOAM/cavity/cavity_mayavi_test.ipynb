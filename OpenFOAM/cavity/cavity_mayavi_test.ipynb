{
 "cells": [
  {
   "cell_type": "code",
   "execution_count": 1,
   "metadata": {
    "collapsed": true
   },
   "outputs": [],
   "source": [
    "import os\n",
    "from mayavi import mlab\n",
    "from mayavi.sources.api import VTKFileReader\n",
    "from mayavi.sources.vtk_data_source import VTKDataSource\n",
    "from mayavi.core.api import Engine\n",
    "from mayavi.scripts import mayavi2\n",
    "import numpy as np\n",
    "from tvtk.api import tvtk\n",
    "from mayavi.modules.surface import Surface\n",
    "from vtk import *"
   ]
  },
  {
   "cell_type": "code",
   "execution_count": 2,
   "metadata": {
    "collapsed": true
   },
   "outputs": [],
   "source": [
    "# define the file name\n",
    "filename=os.path.join(os.getcwd(),'cavity/VTK/cavity_100.vtk')"
   ]
  },
  {
   "cell_type": "code",
   "execution_count": 3,
   "metadata": {
    "collapsed": true
   },
   "outputs": [],
   "source": [
    "# read results\n",
    "reader = vtkUnstructuredGridReader()\n",
    "reader.SetFileName(filename)\n",
    "reader.Update()"
   ]
  },
  {
   "cell_type": "code",
   "execution_count": 5,
   "metadata": {},
   "outputs": [],
   "source": [
    "# create vtkUnstructuredGrid object\n",
    "data = reader.GetOutput()"
   ]
  },
  {
   "cell_type": "code",
   "execution_count": 6,
   "metadata": {
    "collapsed": true
   },
   "outputs": [],
   "source": [
    "# get point data\n",
    "points = data.GetPoints()\n",
    "points_data = data.GetPointData()\n",
    "pressure = points_data.GetArray(0)\n",
    "velocity = points_data.GetArray(1)"
   ]
  },
  {
   "cell_type": "code",
   "execution_count": 26,
   "metadata": {},
   "outputs": [],
   "source": [
    "# convert vtk arrays to numpy\n",
    "from vtk.util import numpy_support\n",
    "np_points = numpy_support.vtk_to_numpy(points.GetData())\n",
    "np_pressure = numpy_support.vtk_to_numpy(pressure)\n",
    "np_velocity = numpy_support.vtk_to_numpy(velocity)"
   ]
  },
  {
   "cell_type": "code",
   "execution_count": 105,
   "metadata": {
    "collapsed": true
   },
   "outputs": [],
   "source": [
    "# get cell data\n",
    "cellTypes = data.GetCellTypesArray()\n",
    "cells_data = data.GetCellData()\n",
    "cells = data.GetCells()\n",
    "cellsLocArray = data.GetCellLocationsArray()"
   ]
  },
  {
   "cell_type": "code",
   "execution_count": 106,
   "metadata": {
    "collapsed": true
   },
   "outputs": [],
   "source": [
    "# create mayavi source via tvtk\n",
    "ug = tvtk.UnstructuredGrid(points = points)\n",
    "ug.set_cells(cellTypes,cellsLocArray,cells)"
   ]
  },
  {
   "cell_type": "code",
   "execution_count": 129,
   "metadata": {},
   "outputs": [
    {
     "name": "stdout",
     "output_type": "stream",
     "text": [
      "(0.76571798, -0.59403098)\n"
     ]
    }
   ],
   "source": [
    "# get maximum and minimum of pressure values\n",
    "print(np.amax(np_pressure),np.amin(np_pressure))"
   ]
  },
  {
   "cell_type": "code",
   "execution_count": 159,
   "metadata": {},
   "outputs": [
    {
     "name": "stdout",
     "output_type": "stream",
     "text": [
      "Notebook initialized with png backend.\n"
     ]
    }
   ],
   "source": [
    "# initialize the notebook window with png backend (x3d doesn't work at the moment, so no interactivity)\n",
    "mlab.init_notebook(backend='png',local=True,width=700,height=700)\n",
    "fig = mlab.figure()"
   ]
  },
  {
   "cell_type": "code",
   "execution_count": 160,
   "metadata": {},
   "outputs": [],
   "source": [
    "# add source to the pipeline\n",
    "src = mlab.pipeline.add_dataset(ug)\n",
    "# create cut plane normal to Z axis\n",
    "cut = mlab.pipeline.scalar_cut_plane(src,plane_orientation='z_axes',view_controls=False,vmax=0.7,vmin=-0.5)\n",
    "# assign pressure scalar data\n",
    "ug.point_data.scalars = np_pressure\n",
    "ug.point_data.scalars.name = 'pressure'"
   ]
  },
  {
   "cell_type": "code",
   "execution_count": 161,
   "metadata": {},
   "outputs": [
    {
     "data": {
      "text/plain": [
       "(0.0, 0.0, 0.25, array([ 0.05 ,  0.05 ,  0.005]))"
      ]
     },
     "execution_count": 161,
     "metadata": {},
     "output_type": "execute_result"
    }
   ],
   "source": [
    "# adjust view\n",
    "mlab.view(azimuth=0,elevation=0,distance=0.25,focalpoint=[0.05,0.04,0.005])"
   ]
  },
  {
   "cell_type": "code",
   "execution_count": 162,
   "metadata": {},
   "outputs": [
    {
     "data": {
      "text/html": [
       "<img src=\"data:image/png;base64,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\" alt=\"PNG image\"></img>"
      ],
      "text/plain": [
       "<mayavi.core.scene.Scene at 0x7fdebae1fa10>"
      ]
     },
     "execution_count": 162,
     "metadata": {},
     "output_type": "execute_result"
    }
   ],
   "source": [
    "# add scalarbar\n",
    "mlab.scalarbar(orientation='horizontal',title='Pressure, Pa',label_fmt='%.2f',nb_labels=5)\n",
    "# activate figure\n",
    "fig"
   ]
  },
  {
   "cell_type": "code",
   "execution_count": null,
   "metadata": {},
   "outputs": [],
   "source": [
    "mlab.init_notebook(backend='png',local=True,width=700,height=700)\n",
    "fig = mlab.figure()"
   ]
  },
  {
   "cell_type": "code",
   "execution_count": null,
   "metadata": {
    "collapsed": true
   },
   "outputs": [],
   "source": [
    "# The second way - just open vtk file via mlab functionality\n",
    "src = mlab.pipeline.open('./cavity/VTK/cavity_100.vtk')\n",
    "\n",
    "o = mlab.pipeline.outline(src)\n",
    "#cut = mlab.pipeline.scalar_cut_plane(src)\n",
    "#iso = mlab.pipeline.iso_surface(src)"
   ]
  },
  {
   "cell_type": "code",
   "execution_count": null,
   "metadata": {
    "scrolled": false
   },
   "outputs": [],
   "source": [
    "fig"
   ]
  }
 ],
 "metadata": {
  "anaconda-cloud": {},
  "kernelspec": {
   "display_name": "Python 2",
   "language": "python",
   "name": "python2"
  },
  "language_info": {
   "codemirror_mode": {
    "name": "ipython",
    "version": 2
   },
   "file_extension": ".py",
   "mimetype": "text/x-python",
   "name": "python",
   "nbconvert_exporter": "python",
   "pygments_lexer": "ipython2",
   "version": "2.7.14"
  }
 },
 "nbformat": 4,
 "nbformat_minor": 2
}
